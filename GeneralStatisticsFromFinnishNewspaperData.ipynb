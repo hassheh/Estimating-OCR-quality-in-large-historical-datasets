{
 "cells": [
  {
   "cell_type": "code",
   "execution_count": 1,
   "metadata": {},
   "outputs": [],
   "source": [
    "import pandas as pd\n",
    "import numpy as np\n",
    "import matplotlib.pyplot as plt\n",
    "import nltk\n",
    "import glob"
   ]
  },
  {
   "cell_type": "code",
   "execution_count": 2,
   "metadata": {},
   "outputs": [],
   "source": [
    "# pd.read_csv made some mistakes when reading the tsv files\n",
    "# this function is able to read the files more reliably\n",
    "def read_csv(path, sep= ',', names=[\"PAGENAME\", \"OCR\", \"GT\"]):\n",
    "    with open(path, 'r', encoding='utf8') as file:\n",
    "        rows = file.read().split(\"\\n\")\n",
    "        data = np.array([row.split(sep) for row in rows if len(row.split(sep)) == 3])\n",
    "    return pd.DataFrame(data=data, columns=names)"
   ]
  },
  {
   "cell_type": "code",
   "execution_count": 3,
   "metadata": {},
   "outputs": [
    {
     "data": {
      "text/plain": [
       "['../ocr_data\\\\test1-id-ocr-gt.tsv',\n",
       " '../ocr_data\\\\test2-id-ocr-gt.tsv',\n",
       " '../ocr_data\\\\test3-id-ocr-gt.tsv',\n",
       " '../ocr_data\\\\test4-id-ocr-gt.tsv',\n",
       " '../ocr_data\\\\test5-id-ocr-gt.tsv']"
      ]
     },
     "execution_count": 3,
     "metadata": {},
     "output_type": "execute_result"
    }
   ],
   "source": [
    "ocr_file_0 = \"../ocr_data/nlf_ocr_gt_tescomb5_2017.xlsx\"\n",
    "path = '../ocr_data/'\n",
    "folders = [f for f in glob.glob(path + \"**/*.tsv\", recursive=True)] \n",
    "folders"
   ]
  },
  {
   "cell_type": "code",
   "execution_count": 4,
   "metadata": {},
   "outputs": [
    {
     "data": {
      "text/html": [
       "<div>\n",
       "<style scoped>\n",
       "    .dataframe tbody tr th:only-of-type {\n",
       "        vertical-align: middle;\n",
       "    }\n",
       "\n",
       "    .dataframe tbody tr th {\n",
       "        vertical-align: top;\n",
       "    }\n",
       "\n",
       "    .dataframe thead th {\n",
       "        text-align: right;\n",
       "    }\n",
       "</style>\n",
       "<table border=\"1\" class=\"dataframe\">\n",
       "  <thead>\n",
       "    <tr style=\"text-align: right;\">\n",
       "      <th></th>\n",
       "      <th>PAGENAME</th>\n",
       "      <th>OCR</th>\n",
       "      <th>GT</th>\n",
       "    </tr>\n",
       "  </thead>\n",
       "  <tbody>\n",
       "    <tr>\n",
       "      <th>0</th>\n",
       "      <td>0001-5636_1938_43__P484_TL00029</td>\n",
       "      <td>yksityisten henkilöiden viljeltäviksi ja asutt...</td>\n",
       "      <td>yksityisten henkilöiden viljeltäviksi ja asutt...</td>\n",
       "    </tr>\n",
       "    <tr>\n",
       "      <th>1</th>\n",
       "      <td>0003-7184_1933_2__P15_TL00103</td>\n",
       "      <td>Mieheni ei tarvitse apua. Odota,</td>\n",
       "      <td>Mieheni ei tarvitse apua. Odota,</td>\n",
       "    </tr>\n",
       "    <tr>\n",
       "      <th>2</th>\n",
       "      <td>0003-7184_1933_37__P11_TL00188</td>\n",
       "      <td>kiinnostuneena jo tuolla sisällä.</td>\n",
       "      <td>kiinnostuneena jo tuolla sisällä.</td>\n",
       "    </tr>\n",
       "    <tr>\n",
       "      <th>3</th>\n",
       "      <td>0013-6522_1927-03_3__P27_TL00080</td>\n",
       "      <td>ne kerhot, jotka nyt niin vähän elon merk-</td>\n",
       "      <td>ne kerhot, jotka nyt niin vähän elon merk-</td>\n",
       "    </tr>\n",
       "    <tr>\n",
       "      <th>4</th>\n",
       "      <td>0013-6522_1927-09_9__P26_TL00061</td>\n",
       "      <td>jolloin lepäsit kotirannalla ennen, ja siskot</td>\n",
       "      <td>jolloin lepäsit kotirannalla ennen, ja siskot</td>\n",
       "    </tr>\n",
       "  </tbody>\n",
       "</table>\n",
       "</div>"
      ],
      "text/plain": [
       "                           PAGENAME  \\\n",
       "0   0001-5636_1938_43__P484_TL00029   \n",
       "1     0003-7184_1933_2__P15_TL00103   \n",
       "2    0003-7184_1933_37__P11_TL00188   \n",
       "3  0013-6522_1927-03_3__P27_TL00080   \n",
       "4  0013-6522_1927-09_9__P26_TL00061   \n",
       "\n",
       "                                                 OCR  \\\n",
       "0  yksityisten henkilöiden viljeltäviksi ja asutt...   \n",
       "1                   Mieheni ei tarvitse apua. Odota,   \n",
       "2                  kiinnostuneena jo tuolla sisällä.   \n",
       "3         ne kerhot, jotka nyt niin vähän elon merk-   \n",
       "4      jolloin lepäsit kotirannalla ennen, ja siskot   \n",
       "\n",
       "                                                  GT  \n",
       "0  yksityisten henkilöiden viljeltäviksi ja asutt...  \n",
       "1                   Mieheni ei tarvitse apua. Odota,  \n",
       "2                  kiinnostuneena jo tuolla sisällä.  \n",
       "3         ne kerhot, jotka nyt niin vähän elon merk-  \n",
       "4      jolloin lepäsit kotirannalla ennen, ja siskot  "
      ]
     },
     "execution_count": 4,
     "metadata": {},
     "output_type": "execute_result"
    }
   ],
   "source": [
    "df_sampled = pd.concat([read_csv(path, sep = \"\\t\", names=[\"PAGENAME\", \"OCR\", \"GT\"]) for path in folders])\n",
    "df_sampled.head()"
   ]
  },
  {
   "cell_type": "code",
   "execution_count": 5,
   "metadata": {},
   "outputs": [
    {
     "data": {
      "text/html": [
       "<div>\n",
       "<style scoped>\n",
       "    .dataframe tbody tr th:only-of-type {\n",
       "        vertical-align: middle;\n",
       "    }\n",
       "\n",
       "    .dataframe tbody tr th {\n",
       "        vertical-align: top;\n",
       "    }\n",
       "\n",
       "    .dataframe thead th {\n",
       "        text-align: right;\n",
       "    }\n",
       "</style>\n",
       "<table border=\"1\" class=\"dataframe\">\n",
       "  <thead>\n",
       "    <tr style=\"text-align: right;\">\n",
       "      <th></th>\n",
       "      <th>PUBTYPE</th>\n",
       "      <th>PUBYEAR</th>\n",
       "      <th>ISSN</th>\n",
       "      <th>PAGENAME</th>\n",
       "      <th>SORTORDER</th>\n",
       "      <th>GT</th>\n",
       "      <th>TESSERACT</th>\n",
       "      <th>OLD</th>\n",
       "      <th>FR11</th>\n",
       "      <th>TESCOMB_EQ</th>\n",
       "      <th>OLD_EQ</th>\n",
       "      <th>FR11_EQ</th>\n",
       "      <th>TESCOMB_MATCH</th>\n",
       "      <th>OLD_MATCH</th>\n",
       "      <th>FR11_MATCH</th>\n",
       "    </tr>\n",
       "  </thead>\n",
       "  <tbody>\n",
       "    <tr>\n",
       "      <th>0</th>\n",
       "      <td>AIK</td>\n",
       "      <td>1884</td>\n",
       "      <td>fk00010</td>\n",
       "      <td>fk00010_1884-12-09_0_8</td>\n",
       "      <td>1</td>\n",
       "      <td>N:o</td>\n",
       "      <td>NaN</td>\n",
       "      <td>M:c&gt;</td>\n",
       "      <td>Hl:c&gt;</td>\n",
       "      <td>0</td>\n",
       "      <td>0</td>\n",
       "      <td>0</td>\n",
       "      <td>0</td>\n",
       "      <td>1</td>\n",
       "      <td>1</td>\n",
       "    </tr>\n",
       "    <tr>\n",
       "      <th>1</th>\n",
       "      <td>AIK</td>\n",
       "      <td>1884</td>\n",
       "      <td>fk00010</td>\n",
       "      <td>fk00010_1884-12-09_0_8</td>\n",
       "      <td>2</td>\n",
       "      <td>0.</td>\n",
       "      <td>NaN</td>\n",
       "      <td>0.</td>\n",
       "      <td>O.</td>\n",
       "      <td>0</td>\n",
       "      <td>1</td>\n",
       "      <td>0</td>\n",
       "      <td>0</td>\n",
       "      <td>1</td>\n",
       "      <td>1</td>\n",
       "    </tr>\n",
       "    <tr>\n",
       "      <th>2</th>\n",
       "      <td>AIK</td>\n",
       "      <td>1884</td>\n",
       "      <td>fk00010</td>\n",
       "      <td>fk00010_1884-12-09_0_8</td>\n",
       "      <td>3</td>\n",
       "      <td>taan</td>\n",
       "      <td>taan</td>\n",
       "      <td>taan</td>\n",
       "      <td>taan</td>\n",
       "      <td>1</td>\n",
       "      <td>1</td>\n",
       "      <td>1</td>\n",
       "      <td>1</td>\n",
       "      <td>1</td>\n",
       "      <td>1</td>\n",
       "    </tr>\n",
       "    <tr>\n",
       "      <th>3</th>\n",
       "      <td>AIK</td>\n",
       "      <td>1884</td>\n",
       "      <td>fk00010</td>\n",
       "      <td>fk00010_1884-12-09_0_8</td>\n",
       "      <td>4</td>\n",
       "      <td>sekä</td>\n",
       "      <td>sekä</td>\n",
       "      <td>sekä</td>\n",
       "      <td>sekä</td>\n",
       "      <td>1</td>\n",
       "      <td>1</td>\n",
       "      <td>1</td>\n",
       "      <td>1</td>\n",
       "      <td>1</td>\n",
       "      <td>1</td>\n",
       "    </tr>\n",
       "    <tr>\n",
       "      <th>4</th>\n",
       "      <td>AIK</td>\n",
       "      <td>1884</td>\n",
       "      <td>fk00010</td>\n",
       "      <td>fk00010_1884-12-09_0_8</td>\n",
       "      <td>5</td>\n",
       "      <td>ehdottomasti</td>\n",
       "      <td>ehdottomasti</td>\n",
       "      <td>ehdottomasti</td>\n",
       "      <td>ehdottomasti</td>\n",
       "      <td>1</td>\n",
       "      <td>1</td>\n",
       "      <td>1</td>\n",
       "      <td>1</td>\n",
       "      <td>1</td>\n",
       "      <td>1</td>\n",
       "    </tr>\n",
       "  </tbody>\n",
       "</table>\n",
       "</div>"
      ],
      "text/plain": [
       "  PUBTYPE  PUBYEAR     ISSN                PAGENAME  SORTORDER            GT  \\\n",
       "0     AIK     1884  fk00010  fk00010_1884-12-09_0_8          1           N:o   \n",
       "1     AIK     1884  fk00010  fk00010_1884-12-09_0_8          2            0.   \n",
       "2     AIK     1884  fk00010  fk00010_1884-12-09_0_8          3          taan   \n",
       "3     AIK     1884  fk00010  fk00010_1884-12-09_0_8          4          sekä   \n",
       "4     AIK     1884  fk00010  fk00010_1884-12-09_0_8          5  ehdottomasti   \n",
       "\n",
       "      TESSERACT           OLD          FR11  TESCOMB_EQ  OLD_EQ  FR11_EQ  \\\n",
       "0           NaN          M:c>         Hl:c>           0       0        0   \n",
       "1           NaN            0.            O.           0       1        0   \n",
       "2          taan          taan          taan           1       1        1   \n",
       "3          sekä          sekä          sekä           1       1        1   \n",
       "4  ehdottomasti  ehdottomasti  ehdottomasti           1       1        1   \n",
       "\n",
       "   TESCOMB_MATCH  OLD_MATCH  FR11_MATCH  \n",
       "0              0          1           1  \n",
       "1              0          1           1  \n",
       "2              1          1           1  \n",
       "3              1          1           1  \n",
       "4              1          1           1  "
      ]
     },
     "execution_count": 5,
     "metadata": {},
     "output_type": "execute_result"
    }
   ],
   "source": [
    "# reading the excel file takes a while\n",
    "df_full = pd.read_excel(ocr_file_0, sheet_name=\"Words\", header=3, skip_rows=[0,1,2])\n",
    "df_full.head()"
   ]
  },
  {
   "cell_type": "code",
   "execution_count": 6,
   "metadata": {},
   "outputs": [],
   "source": [
    "ground_truth = df_full.values[:,5].astype(np.str)\n",
    "ocr_tess = df_full.values[:,6].astype(np.str)\n",
    "ocr_old = df_full.values[:,7].astype(np.str)\n",
    "ocr_fr11 = df_full.values[:,8].astype(np.str)\n",
    "ocr_sampled = df_sampled.values[:,1].astype(np.str)\n",
    "gt_sampled = df_sampled.values[:,2].astype(np.str)"
   ]
  },
  {
   "cell_type": "code",
   "execution_count": 7,
   "metadata": {},
   "outputs": [
    {
     "data": {
      "text/plain": [
       "'että kunnille sallittaisiin walta sulkea kapakat alueellaan, mutta wielä ei ole semmoinen laki tullut toimeen. Parlamentti on tosin kerran hywäksynyt tätä asiaa periaatteena, mutta periaatteesta käytäntöön näyttää olewan koko pitkä tie. Nykyhetkenä wallitsee waltakunnassa kiihkeä taistelu muutettawasta waalilaista, joka tempaa puoleensa kaikkien huomion ja työntää syrjään raittiusasian, ja sen ohessa on ollut ja on muitakin asioita, joilla on koetettu ja onnistuttu sekoittaa pois waltiopäiwämiesten mielet kun raittiusasia on nostettu puheeksi; mutta sillä wälin waan juurtuwat raittiuden periaatteet sywemmin kansassa, niin että kun kerran asia todellakin otetaan puheeksi, kaiketi woidaan toiwoa paljon hywää raittiusasialle. Ja woitto Englannissa ei olisi woitto Englannille yksistään, se esimerkki waikuttaisi laajalle ympäri maailman. — Wenäjän aloja kuwaawa on tapaus, jonka \"Inkeri\" kertoo, Kauppias Makarowilla oli eräässä seurakunnassa ollut kaksi kapakkaa. Saadakseen seurakuntalaisten suostumuksen wast\\'edeskin samaa liikettä jatkaakseen hän kutsuu noin 60 8 Aamunairut. Raittiuskirjallisuutta. Tärkeä 9 p. Jouluk. 1884. ukkoa luokseen kestiin, jossa tarjottiin runsaasti — tietysti etupäässä wiinaa. Yksi ukoista nauttiikin niin halukkaasti tuota iloainetta että — kuoli. Sama lehti kertoo, että Wenäjän hallitus walmistelee uutta wiinapolttolakia, jonka kautta \"edistettäisiin kotipolttoa maanwiljelyksen ja karjanhoidon kehittämiseksi\"! Siten luullaan waltion tulojen nousewan kuudella miljoonalla. — Kuinkahan monella miljoonalla menot nousewat? Kansanwalistusseuran kustannuksella on ilmestynyt: Nykyajan Raittiusliike kirjoittanut A. A. Granfelt........... 1: — Raittiuden Ystäwien toimesta on painosta ilmestynyt Kirjasia: 1. Maunulan Matti ja hänen wiimeinen markkinaretkensä kirj. G. C. Kolmas painos — 10. 2. Kussa on tipu, kussa murhe, kirj, C. O. Berg. Toinen painos,- 10. 3. Ensimmäinen päihtymys ja sen seuraukset, esittänyt C. O. Berg. Toinen painos— 10. 4. Työnteko, jumalanpelko ja raittius, kirj. C. O. Berg. Toinen painos — 20. 5. Rampa Lauri, Kolmas painos - 10. 6. Juho ja Maria eli mihin juopumus wie, kirj. Lrn. Neljäs painos — 20. 7. Lapsuuden-ystäwät. Kuwia todellisesta elämästä, kirj. Lrn. Toinen'"
      ]
     },
     "execution_count": 7,
     "metadata": {},
     "output_type": "execute_result"
    }
   ],
   "source": [
    "# join the individual words into pages\n",
    "def join(array):\n",
    "    return \" \".join(map(str, array))\n",
    "def combine_to_pages(dataframe, column):\n",
    "    pages = np.split(dataframe.values[:, column], np.cumsum(np.unique(dataframe.values[:, 3], return_counts=True)[1])[:-1])\n",
    "    return np.array(list(map(join, pages)))\n",
    "pages_gt = combine_to_pages(df_full, 5)\n",
    "pages_tess = combine_to_pages(df_full, 6)\n",
    "pages_old = combine_to_pages(df_full, 7)\n",
    "pages_fr11 = combine_to_pages(df_full, 8)\n",
    "ocr_sampled = df_sampled.values[:,1]\n",
    "pages_gt[1]"
   ]
  },
  {
   "cell_type": "code",
   "execution_count": 8,
   "metadata": {},
   "outputs": [
    {
     "data": {
      "text/plain": [
       "0.596439566323116"
      ]
     },
     "execution_count": 8,
     "metadata": {},
     "output_type": "execute_result"
    }
   ],
   "source": [
    "np.mean(ocr_sampled==gt_sampled)"
   ]
  },
  {
   "cell_type": "code",
   "execution_count": 9,
   "metadata": {},
   "outputs": [],
   "source": [
    "def word_align(ocr, truth):\n",
    "    #compute lehvenstein stuff but return an array of\n",
    "    # 1,x,x,x if correct letter\n",
    "    # x,1,x,x if different letter\n",
    "    # x,x,1,x if missing letter\n",
    "    # x,x,x,1 if extra letter\n",
    "    words = len(truth.split())\n",
    "    m = len(ocr)\n",
    "    n = len(truth)\n",
    "    d = np.zeros([n+1, m+1], np.int)\n",
    "    path = np.zeros([n+1, m+1], np.int)\n",
    "    path[0,0] = 2\n",
    "    for i in range(1, n+1):\n",
    "        d[i, 0] = i\n",
    "        path[i, 0] = 1\n",
    "    for j in range(1, m+1):\n",
    "        d[0, j] = j\n",
    "        path[0, j] = 0\n",
    "    for j in range(1, m+1):\n",
    "        for i in range(1, n+1):\n",
    "            substitutionCost = 1-(truth[i-1] == ocr[j-1])*1\n",
    "            choices = [ d[i-1, j] + 1,                   # deletion\n",
    "                        d[i, j-1] + 1,                   # insertion\n",
    "                        d[i-1, j-1] + substitutionCost]  # substitution\n",
    "            min_choice = np.argmin(choices)\n",
    "            \n",
    "            path[i, j] = min_choice\n",
    "            d[i, j] = choices[min_choice]\n",
    "    i = n\n",
    "    w = words-1\n",
    "    res = np.zeros([words+1], np.int)\n",
    "    res[words] = len(ocr)\n",
    "    for j in range(m, -1, -1):\n",
    "        prev = -1\n",
    "        while prev <= 0:\n",
    "            prev = path[i, j]\n",
    "            if prev == 0: #deletion\n",
    "                if i<1 or truth[i-1] == ' ':\n",
    "                    res[w] = j\n",
    "                    w -= 1\n",
    "                    w = max(w, 0)\n",
    "                i -= 1\n",
    "            elif prev == 1: #insertion\n",
    "                pass\n",
    "            elif prev == 2: #substitution\n",
    "                if i<1 or truth[i-1] == ' ':\n",
    "                    res[w] = j\n",
    "                    w -= 1\n",
    "                    w = max(w, 0)\n",
    "                i -= 1\n",
    "    return res\n",
    "def vector_word_align(ocr, gt): #np.vectorize(lehvenstein_differences, signature='()->(n)')\n",
    "    assert(len(ocr)==len(gt))\n",
    "    return np.array([word_align(ocr[i], gt[i]) for i in range(len(ocr))])\n",
    "    "
   ]
  },
  {
   "cell_type": "code",
   "execution_count": 10,
   "metadata": {},
   "outputs": [],
   "source": [
    "sampled_word_boundaries = vector_word_align(ocr_sampled, gt_sampled)"
   ]
  },
  {
   "cell_type": "code",
   "execution_count": 11,
   "metadata": {},
   "outputs": [
    {
     "name": "stdout",
     "output_type": "stream",
     "text": [
      "['seen,', 'miel.', 'saaan', 'paikkaan.', 'Vas-']\n",
      "seen, miel. samaan paikkaan. Vas-\n"
     ]
    }
   ],
   "source": [
    "sampled_words = [[ocr_sampled[ind][sampled_word_boundaries[ind][i]:sampled_word_boundaries[ind][i+1]].strip() for i in range(len(sampled_word_boundaries[ind])-1)] for ind in range(len(sampled_word_boundaries))]\n",
    "print(sampled_words[50])\n",
    "print(gt_sampled[50])"
   ]
  },
  {
   "cell_type": "code",
   "execution_count": 12,
   "metadata": {},
   "outputs": [
    {
     "name": "stdout",
     "output_type": "stream",
     "text": [
      "46902 46902\n"
     ]
    }
   ],
   "source": [
    "# the uniformly selected data aligned to word level\n",
    "ocr_sampled_words = np.concatenate(sampled_words)\n",
    "gt_sampled_words = np.concatenate([sentence.split() for sentence in gt_sampled])\n",
    "print(len(gt_sampled_words), len(ocr_sampled_words))"
   ]
  },
  {
   "cell_type": "code",
   "execution_count": 13,
   "metadata": {},
   "outputs": [
    {
     "name": "stdout",
     "output_type": "stream",
     "text": [
      "0.8890878853780223\n"
     ]
    }
   ],
   "source": [
    "# word level accuracy\n",
    "print(np.mean(gt_sampled_words == ocr_sampled_words))"
   ]
  },
  {
   "cell_type": "code",
   "execution_count": 14,
   "metadata": {},
   "outputs": [
    {
     "data": {
      "text/plain": [
       "6.277874447865078"
      ]
     },
     "execution_count": 14,
     "metadata": {},
     "output_type": "execute_result"
    }
   ],
   "source": [
    "# average number of words per row\n",
    "np.mean([len(sent.split()) for sent in gt_sampled])"
   ]
  },
  {
   "cell_type": "code",
   "execution_count": null,
   "metadata": {},
   "outputs": [],
   "source": []
  },
  {
   "cell_type": "code",
   "execution_count": 15,
   "metadata": {},
   "outputs": [],
   "source": [
    "def levenshteinDistance(s1, s2):\n",
    "    if len(s1) > len(s2):\n",
    "        s1, s2 = s2, s1\n",
    "\n",
    "    distances = range(len(s1) + 1)\n",
    "    for i2, c2 in enumerate(s2):\n",
    "        distances_ = [i2+1]\n",
    "        for i1, c1 in enumerate(s1):\n",
    "            if c1 == c2:\n",
    "                distances_.append(distances[i1])\n",
    "            else:\n",
    "                distances_.append(1 + min((distances[i1], distances[i1 + 1], distances_[-1])))\n",
    "        distances = distances_\n",
    "    return distances[-1] #/ (1.0*len(s2))  \n",
    "vectorLehvenstein = np.vectorize(levenshteinDistance)"
   ]
  },
  {
   "cell_type": "code",
   "execution_count": 16,
   "metadata": {},
   "outputs": [
    {
     "name": "stdout",
     "output_type": "stream",
     "text": [
      "69\n"
     ]
    },
    {
     "data": {
      "text/plain": [
       "(array(['leian aoss nsmen nrene ier fndetsage ie iler',\n",
       "        'nöpi Nidord, ser Hw öxprs Kob, kaskd i',\n",
       "        'Guon afadla amdlen soen apiomen an å ho',\n",
       "        'ler amiölas am simiatar 8ör dddrdn mäka',\n",
       "        'Höteaman nsann a n t enrdn isdenemar oö-', 'Tätttmt stigsäa',\n",
       "        'Fmentareei hiensrs inderräreise eäked has Herr Haudetsmaa äkr älngrt, öo sureionsg',\n",
       "        'gr stnsilt e diri smin Åi äni srde fken',\n",
       "        'Återbetalte insatser för 16 med döden afgångne delegare ................ ,, 2,004:',\n",
       "        'till Åbo .............................................................. 23 20 — 12 50 8 50'],\n",
       "       dtype=object),\n",
       " array(['laså har gräswerten, som icke städats af is eller',\n",
       "        'RÖDE MÄNNEN, eller HIN ONDES SON, skådespel i 5',\n",
       "        'Genom offentlig auktion, som onsdagen den 25 inne-',\n",
       "        'let ansökas inom femtiosex (56) dagar härefter, denna da',\n",
       "        'sande på engång afstå all sin egendom och derefter med',\n",
       "        'nar; 65 äro engelska och destinerade till sär-',\n",
       "        'Inventarier ; närmare underrättelse erhålles hos Herr Handelsman Abr. Kingelin. Åbo Auctions-',\n",
       "        'wentakter, segel och tåg på offentelig auction å Åbo Stads auctione',\n",
       "        'Återbetalte insatser för 16 med döden afgånge delegare ................................................................. „ 2,004;',\n",
       "        'till Abo | 23 - | 20 - | 12 50 | 8 50'], dtype='<U129'))"
      ]
     },
     "execution_count": 16,
     "metadata": {},
     "output_type": "execute_result"
    }
   ],
   "source": [
    "lehv_distances = vectorLehvenstein(ocr_sampled, gt_sampled)\n",
    "worst_rows = np.argsort(lehv_distances)\n",
    "# print some of the worst ocr mistakes in the dataset based on edit distance\n",
    "print(levenshteinDistance(ocr_sampled[worst_rows[-1]], gt_sampled[worst_rows[-1]]))\n",
    "ocr_sampled[worst_rows[-10:]], gt_sampled[worst_rows[-10:]]"
   ]
  },
  {
   "cell_type": "code",
   "execution_count": 17,
   "metadata": {},
   "outputs": [
    {
     "data": {
      "text/plain": [
       "7471"
      ]
     },
     "execution_count": 17,
     "metadata": {},
     "output_type": "execute_result"
    },
    {
     "data": {
      "image/png": "[encoded data removed]",
      "text/plain": [
       "<Figure size 432x288 with 1 Axes>"
      ]
     },
     "metadata": {
      "needs_background": "light"
     },
     "output_type": "display_data"
    }
   ],
   "source": [
    "# most of the errors are only one or two characters in the row\n",
    "plt.hist(lehv_distances, bins=70)\n",
    "len(lehv_distances)"
   ]
  },
  {
   "cell_type": "code",
   "execution_count": null,
   "metadata": {},
   "outputs": [],
   "source": []
  },
  {
   "cell_type": "code",
   "execution_count": 18,
   "metadata": {},
   "outputs": [
    {
     "data": {
      "text/plain": [
       "'n  124402, a  93627, ta 66964, en 63141, in 62363, an 55692, is 52213,  k 49491, .  46782, st 46689, ä  45465, si 43948, ,  42123, ll 41736, tt 41731, aa 41633, i  39189,  s 38639, ka 38062, tä 37537, se 36892,  t 36714, sa 35163,  j 35156, it 34280, wa 32156, ai 31331,  o 30971, et 29847, ja 29582,  w 29084, la 29057,  m 28603,  p 28437, li 28064, al 27518, te 27512, el 27353, t  26537, tu 25696, on 25586, oi 25418, ma 25260, le 24762, än 24655, ti 23403, as 22998, ss 22466, at 22452, ku 22441, ki 22385,  e 21750, ne 21734, il 21370, ks 21264, mi 21183, ii 20765, ol 20752, ko 20735, ut 20478, e  20179,  h 19897, un 19235, ik 19074, es 18493, ää 17918, uu 17556, to 17467, ei 17467, uo 17278, jo 16781, ar 16738, ee 16317,  l 16217, na 15932,  a 15777, me 15674, us 15468, ke 15391,  n 15288, ni 15127, ri 14881, er 14780, nn 14672, lä 14384, ul 14245, ra 14023, nt 13996, ie 13968, ak 13402, wi 12998, pa 12947, uk 12581, os 12459, ns 12425, a, 12278, sä 12113, de 11987, ot 11966, lu 11741, ia 11316, au 11196, wä 10846, im 10773, am 10755, nk 10635, kk 10583, iw 10348, nä 10347, ty 10087, ok 10017, he 10015, mm 9904, pi 9839, a. 9622, su 9560, s  9557, n, 9453, om 9405, ui 9144, kä 9096, yt 9054, no 8611, mä 8609,  K 8537, ht 8526,  r 8453, ur 8370, äi 8357,  S 8312, lt 8166, em 8087, sk 8077, mu 8033, ät 7919, aw 7908, pu 7850, nu 7763, lo 7678, ha 7671, o  7527, hä 7370, ir 7368, äs 6927,  1 6817, ek 6776,  i 6761, n. 6704, pä 6700, ah 6662, eh 6427, or 6369, rk 6328,  y 6313, hd 6161, ap 6157, äm 6014,  H 6009, pe 5968, wo 5957, äl 5908,  — 5872,  T 5838, —  5744, we 5662,  M 5637, ou 5462, aj 5434, lm 5423, jä 5386, ä, 5250, ts 5246, ih 5137, re 5073, lk 4919, rj 4863, tk 4840, äk 4762, äh 4716,  W 4646, hi 4621, ys 4602, sy 4508, op 4445,  P 4413, oh 4412, ru 4408,  J 4373, är 4367, yl 4354, eu 4331, ew 4325, yö 4315, pp 4258, um 4206, id 4205, hu 4165, rt 4135, ud 4087, uh 4087, so 4083, yy 4077, u  4044,  \" 4028, ky 3983, yk 3976, äy 3939, yh 3869, ro 3861, :  3859, ow 3841,  u 3833, wu 3822, je 3790, ny 3778, mo 3747, 0  3690, ä. 3676, i, 3621,  L 3593, po 3592, io 3507, oj 3498,  2 3479, yn 3449, \"  3394, iä 3373,  A 3368, uw 3273, up 3267, ng 3265, oo 3242, do 3175, ua 3171, rä 3126,  E 3119, oa 3027, rw 3017, rr 3002, ho 3001, mp 2999, t, 2996, äw 2970, my 2962, t. 2928, dä 2909, i. 2861, lj 2855,  N 2813, yw 2707, e, 2699, ;  2661, ju 2611, hy 2605, tö 2531, di 2530, p. 2517, od 2445,  R 2423, ed 2405, ip 2377, ea 2312, He 2224, ij 2210, ös 2188, da 2187, rs 2160, Ka 2157, 00 2151, Ku 2004, ön 1997, Su 1956,  O 1952,  I 1926, yd 1890,  3 1856, gi 1833, e. 1825, ym 1823, y  1822, -  1778, yi 1765, lw 1761, Si 1693, ad 1684, nh 1682, rm 1649, k. 1620, Wa 1614, Sa 1614, ly 1603, m. 1571, Ma 1515, 18 1515, Mu 1476, nd 1475,  ( 1469, äj 1462, py 1454,  5 1448, Se 1426, 1  1394, kö 1390, 5  1372, np 1354, Ju 1348, 2  1347, iu 1346, Jo 1345, Hä 1345,  4 1334, uj 1334, Wi 1332, hm 1332, Mi 1297, s. 1267, Tu 1265,  ä 1253, )  1241, Tä 1233, Ko 1213, hk 1207, Ta 1189, öy 1188,  v 1169, s, 1166, du 1156, va 1131, yr 1130, öm 1117, rn 1109, 10 1104,  U 1066,  B 1057, nw 1052, eä 1048, lö 1045, 3  1034, ue 1029,  6 1027, :n 1023, hj 1020, Pa 1005, !  1003, nl 988, Ja 980, p: 974,  F 972, sw 963, äe 961,  G 954, ls 954, La 952, rh 950, ep 948, 4  948, Ra 942, hl 930, ji 929, 6  927, i- 917, ö  915, a- 910, ps 906, To 902, Ke 897, ?  889, nö 878, Ki 878, ry 875, ge 872,  8 868, tr 867, ae 866, sm 862,  7 859, s- 857, rg 857, a: 856, oe 853, öi 853, rp 852, yä 848, 8  846, öt 844, Po 840, Ha 804,  Y 802, w. 800, n: 798, be 787, 9  778, Pi 775, nm 773, ,0 773, r  761, dy 754, 20 750, Ni 748, äp 744, 50 737, ör 728, A. 724, n- 722, 7  720, kr 716, sl 712, lp 708, ök 708, 12 707, sp 706,  9 702, We 687, a; 673, o, 663, hr 659, öl 653, l. 650, ga 640, ey 627, Li 623, öö 622,  . 619, En 611, :l 598, I. 597, u, 595, -a 595,  C 592, Ru 584, Me 577, .\" 561, eo 558, pr 554, j. 551, 11 548, 1, 546, K. 538, 15 537, Ei 535, .) 534, 0, 529, y. 526, \", 524, l  515, ., 513, a\" 513, \\'i 510, iö 509, W. 505, 30 500, rö 500, 2, 499, Al 497, Pe 497, Le 496, u. 492,  D 492, ej 491, ch 490, nr 487, hn 485, :o 484, vi 478, o. 474, 25 470, n\" 469, \". 469, Je 465, n; 459, Lu 456, An 455, rl 452, sh 451, Ol 449, Te 448, S. 448, Nä 436, Kr 431, Hu 430, o- 418, Lo 413, äd 411, 88 411, 13 408, 40 407, th 398, :s 392, vä 387, Ti 385, -k 384, Uu 384, m  384, 14 383, nj 381, hw 381, mk 380, of 375, lh 372, Mo 372, Ny 371, Pu 371, Er 368,  ˶ 368, 0. 367, t: 367,  - 364, ck 362,  V 362, iv 361, vo 360, 5, 360, No 359, G. 358, 16 358, r. 358,  d 357, 60 353, 86 353, E. 352, d  350, rd 350, 90 349, Il 346, 1: 345, So 342, yj 341, Hi 341, H. 340, -o 338, a! 331, gr 331, g  329, 89 328, Ne 324, 17 323, a? 322, k: 322, k  321, ä- 318, Lä 318, 80 316, 19 314, go 311, ä; 305, 87 303, öh 303, ). 303, Pä 301, hö 300, Yl 299, On 298, Ky 297, El 297, h. 296, yp 295, 22 295, u- 293, Ou 291, av 290, 4, 290, F. 289, 3, 289, Be 286, pl 284, ag 284, 2. 281, Ro 281, 70 277, gl 276, M. 276, Fr 274, U. 272, .; 266, ä: 265, fe 264, Is 264, wy 263, Yh 262, Ar 262, sn 260, 24 259, -w 259, 21 259, n? 258, pö 257, \\'e 254, !\" 254, St 254, P. 254, 0: 254, öw 252, i: 250, i\" 249, Wä 249, Sy 249, ld 249, N: 247, 23 247, n! 246, f  244, én 244, ?\" 243, 28 243, sj 242, 2: 240, y, 240, fi 240, kl 238, öä 236, t\\' 234, öd 233,  f 233, 6, 233, As 230, -p 230, ,5 228, \"M 227, \"S 226, 3: 226, Re 225, h  225, 7, 225, ve 224, sö 223, Ho 223, 6. 222, 29 220, 4. 219, 8, 218, Am 216, \"K 216, 27 214, 26 214, -t 211, i; 209, pt 208, Jä 207, Pr 207, Ri 206, af 202, O. 201, L. 201, Hy 200, -s 199, Ty 198, Gr 197, My 197, Kä 194, ,2 194, ff 194, 5: 194, -i 193, ,1 193, Py 192, Ai 192, bl 192, ä\" 192, :k 192, 9, 190, mö 189, jö 189, Au 189, 85 186, i! 186, Es 184, a) 184, eg 184, dr 184, 1. 183, ig 183, 4: 183, .. 181, jy 181, e- 181, 75 180, Et 178, -l 178, ,3 178, 5. 177, Sä 177, It 176, ,8 176, ms 175, ,4 174, Br 173, 8. 173, bo 172, n\\' 171, Nu 171, Os 170, nb 170, Ed 168, ½  168, —1 168, ,6 168, Wu 167, sr 167, T. 167,  b 166,  0 165, \"T 163, (J 161, 3. 160, lg 160, 35 160, eb 160, ,9 160, ic 159, II 159, ,7 157, ev 156, :r 155, Na 155, öp 155, ba 154, g, 153, sc 153, ), 153, N. 153, In 152, 84 152, Wo 152, ä? 152, öj 151, ug 151, fo 150, Da 150, 8: 150, m, 150, ds 149, g. 148, ac 148, Jy 147, 9. 147, og 147, lb 146, äa 146, ao 146, e\" 145, bi 145, ye 145, ef 145, e: 144, Aa 143, t\" 143, Ca 143, fr 142, uv 142, J. 142, ab 142, 82 142, 31 141, Fo 141, ’i 141, mb 139, s\\' 139, d. 139, C. 138, 7. 138, Oi 138, \"E 138, Us 137, 32 137, ö, 137, ä! 133, ya 132, 6: 132, 92 132, Gu 132, lf 131, kt 131, \"N 130, rb 130, ov 130, -e 129, vu 129, rv 129, äo 128, i? 127, \\'  127, ,\" 126, oc 126,  Ä 126, br 126, Fi 126, -S 125, r, 125, -y 124, tn 124, R. 124, Ul 122, Ah 122, Ba 122, 45 122, \"J 121, Eh 121, 34 121, -r 121, -m 121, ec 121, dt 120, .- 120, 38 120, äv 120, 7: 120, t; 119, 72 119, ob 118, 83 118, 68 118, Bo 118,  g 117, Yk 116, 76 116, 9: 116,  + 114, Mä 113, n) 113, km 113, Eu 112,  § 112, gs 111, nc 111, Em 111, Ot 110, 33 110, \"k 108, \"H 108, Sm 108, \"W 107, :t 107, db 106, e; 106, v. 106, 39 106, -j 106, \"O 105, Ch 105, .p 104, I  103, ib 103, gn 103, 37 102, Sc 102, 65 102, -, 100, 64 99, s: 99, Va 99, l, 99, 08 98, tl 98, tz 98, (1 97, dl 97, t? 96, 91 96, gu 96, 2) 96, yv 96, kh 96, Th 95, 81 95, e! 94, \"P 94, 74 94, m: 94, fa 93, 53 93, Ga 93, tj 92, Vi 92, B. 92, —2 91, 56 91, o: 90, 44 90, 66 90, 36 90, bu 90, Op 89, 42 89, Bu 88, qw 88, -h 87, Lö 87,  Ö 87, ö- 86, 55 86, 99 86, 62 86, l\\' 85, 58 85, t- 84, t! 84, %  84, 48 83, 0; 83, 73 83, e? 82, 69 82,  ö 82, 59 82,  ½ 82, ub 81, 52 80, 79 79, 43 79, \"m 79, 1) 79, sb 79, f. 78, iy 77, Un 77, 57 77, s\" 77, 46 77, 0— 77, V. 77, ö. 76, lv 76, dw 75, Hr 75, k\\' 75, 63 75, Ly 75, +  75, \"e 74, Tr 74, (U 74, 67 74, kn 74, p  74, 47 73, Ih 73, Rä 73,  Z 73, h, 72, 71 72, y- 72, Or 72, D. 72, -n 72, ä) 72, Co 72, Oh 72, nf 71, d, 71, 09 71, 61 71, ˶  71, rc 71, ré 70, 51 70, Hö 69, (K 69, \"t 69, Hj 69, 07 69, 0) 68, 06 68, 3) 68, ay 67, 54 67, (S 67, 95 67, 41 67, 05 66, 93 66, ln 66, 49 66, Om 66, Kö 66, Ii 66, g\\' 66, lé 66, \"s 65, u: 65, mr 65, 77 65, Ad 64, AN 64, N  64, Kl 64, 98 64, S: 64, Ew 63, \"p 63, \\'a 63,  Å 63, \"A 62, Di 62, Do 62, 78 62, äc 62, tw 62, Ik 61, mn 61, ci 61, 02 60, Ap 60,  % 60, gg 60, \"L 59, l- 59, 94 59, Ek 59, -K 59, gm 58, \"w 58, Fa 58, \"R 58, (3 58, 01 58, if 57, 97 57, rf 57, fw 57, K: 57, o\" 56, Ge 56, gh 56, Go 56, ce 56, Fe 56, Aj 55, sv 55, De 55, \"j 54, Bl 54, tm 54, &  54, w  54, 3— 54, Sw 53, co 53, (k 53, 04 52,  , 52, gy 52, Du 52, fö 52, r- 51, 03 51, \"h 51, A  50, (L 50, Bi 50, Sj 50, ’e 50, §: 50, ’  50, s; 49, (P 49, (e 49, ); 49, ze 49, Ve 48, zi 48, Ab 48, wö 48, —3 48, 96 48, Ry 48, :i 48, m; 48, Äl 47, s! 47, dm 47, ca 47, öf 47, Cl 47, 5; 46, k, 46, n’ 46, *) 45, TI 45,  & 45, (2 45, (H 45, yg 45, yb 44, Ep 44, Sn 44, Sö 44, 4) 44, Aw 44, EN 44, U+ 44, +2 44, ft 43, (T 43, år 43, äu 42, TA 42, -u 42, \"o 42, —6 42, 1— 42, uy 41, dd 41, 9— 41, SA 41, sd 40, j  40, .n 40, .l 40, \"l 40, tp 40, (W 40, ¼  40, 4— 40, dé 40, dh 40, Bj 40, té 40, gb 40, ex 40, bä 40, AL 39, 6) 39, Ow 39, k- 39, by 39,  c 39, §. 39, 8— 39, Ys 38, \"n 38, 2— 38, Id 38, dg 38, LE 37, 5— 37, (E 37, Ee 37, uf 37, t’ 37, å  36, u; 36, 0- 36, :— 36, d\\' 36, (p 36, —, 36, Ak 36, u\\' 36, P: 36, +1 36, ws 35, uc 35, kp 35, O  35, Im 35, i) 35, —7 35, ån 35, .0 35, Sp 35, fs 35, m\\' 35, :ä 34,  à 34, u\" 34, i\\' 34, ¾  34, Ur 34, z  34, -1 34, Tö 34, Ir 34, T: 34, h- 33, oy 33, ER 33, nv 33, e) 33, öa 33, .— 33, \"I 32, sf 32, Sk 32, ml 32, (w 32, ax 32,  X 31,  * 31, à  31, t) 31, r\\' 31, fl 31, y: 30, (A 30, ph 30, 8) 30, LA 30, bb 30, Af 30, dn 30, s’ 30, 1½ 29, o! 29, Äi 29, Eg 29, 5) 29, :2 29, (j 29, -A 29, ST 29, JA 29, \"r 29, oä 29, l: 29, (s 29, öb 29, n— 29, Ös 29, h: 29, \"- 28, -Y 28, s? 28, HT 28,  : 28, 9) 28, KO 28, IN 28, OM 28, bs 28, a\\' 28, nz 28, :e 27, EH 27, (M 27, kj 27, Hb 27, äg 27, rå 27, mt 27,  ¼ 27, :a 27, h\\' 26,  » 26, Yö 26, NE 26, kg 26, (m 26, KU 26, (h 26, gt 26, Gi 26, ez 26, Yr 26, f, 26, —9 26, \"i 25, 2½ 25, g) 25, Ce 25, —l 25, .! 25, b. 25, mg 25,  å 25, 2; 25, lq 25, M: 25, dq 25, Ut 25, Y. 24, =  24, TO 24, s) 24, RA 24, —n 24, Pö 24, wn 24, S  24, (5 24, (R 24, Gö 24, I: 24, mf 24, Vo 23, Ää 23, ˶M 23, dö 23, —. 23, Pl 23, ON 23, Mr 23, .: 23, —8 23, §  23, nq 23, \\'u 23, r\" 23, Öh 23, gd 23, w, 23, Kn 22, VA 22, Fl 22, ˶S 22,  ¾ 22, 7— 22, -H 22, lc 22, aä 22, :d 22, Bä 22, 1/ 22, \\'o 22, H: 22, mé 22, (4 22, Dr 21, b  21, \\'- 21, Åk 21, —4 21, é  21, -ä 21, 4½ 21, xe 21, 3- 21, Rö 21, ½. 21, lr 21, sé 21,  = 20, Ag 20, .k 20, o) 20, b) 20, cr 20, —5 20, ål 20, At 20, u! 20, Cr 20, \"F 20, —: 20, :m 20, (n 20, (r 20, w- 20, Yo 20, AR 20, /1 20, på 20, ,— 20, d’ 20, Mö 20, pé 20, Ts 20, ög 19, .1 19, pn 19, ˶T 19, US 19, AT 19, XI 19, g\" 19, MI 19, -R 19, 6— 19, Wr 19, ux 19, .5 19,  † 19, AS 19, gå 19, df 19,  « 19, Sl 19, .S 19, PP 19, Z. 19, e’ 19, \"Ä 18, vy 18, TU 18, KA 18, D: 18, \"Y 18, \\'n 18, 7) 18, ˶k 18, 4- 18, (F 18, -P 18, o; 18, tå 18, ˶K 18, UO 18, åt 18, Cy 18, (t 18, \"U 18, za 18, Iw 18, k’ 18, l’ 18, 3½ 18, m& 18, \"a 17, TT 17, RJ 17, \"u 17, 2- 17, (6 17, \"B 17, yo 17, gä 17, Wy 17, 7½ 17, Äs 17, .3 17, (I 17, c  17, kb 17, åh 17, m- 17, A: 17, -2 17, Ax 17, z\\' 17, Ze 17, wl 17, xi 17, (N 17, tg 17, tf 17, hv 16, KI 16, Ym 16, TE 16, ct 16, UN 16, 3; 16, ˶p 16, :3 16, ˶s 16, †  16, z, 16, EL 16, g’ 16, cu 16, kw 16, ъ  16, lå 15, Ps 15, ö\" 15, IS 15, ET 15, (i 15, gf 15, Uh 15, :1 15, %. 15, qu 15, Zi 15, Od 15, 5- 15, uä 15, Uk 15, ’a 15, W: 15, DE 15, hs 15, w: 15, r) 15, fu 14, -T 14, \"; 14, K  14, Å. 14, Ok 14, öe 14, ND 14, PE 14, IO 14, fä 14, UV 14, -M 14, kf 14, öv 14, /5 14, ,, 14, AU 14, SI 14, 8; 14, qv 14, NO 14, IA 14, sz 14, Wl 14, xa 14, üt 14, jp 14, Ug 14, e\\' 14, åb 13, m! 13, 6; 13, IR 13, KK 13, \\'s 13, MA 13, d\" 13, p- 13, ME 13, -L 13, 9; 13, -W 13, ˶t 13, (l 13, p, 13, Ev 13,  ; 13, x. 13, Wj 13, x  13, ,- 12, HA 12, r: 12, ˶E 12, (o 12, y? 12, mj 12, y! 12, \\'ä 12, AI 12, OS 12, (9 12, o\\' 12, ˶h 12, fy 12, 6\" 12, l0 12, d) 12, 5/ 12, g; 12, Up 12, mq 12, .2 12, 0/ 12, Rå 12, ix 12, Öl 12, KS 12, ˶H 12, Ph 12, ö? 12, IV 12, 3/ 12, \") 12, l2 12, —\" 12, y\\' 12, \"D 12, .o 12, fg 12, wp 12, Bö 12, Ö. 12, cy 12, l8 12, SU 12, l+ 12, +U 12, Lü 12, né 12, åd 12, ]  12, !) 11, l\" 11, Oj 11, zo 11, ˶J 11, u? 11, :5 11, Ås 11, y; 11, OT 11, H  11, 0% 11, -- 11, 0½ 11, -B 11, E  11, IL 11, %, 11, T  11, UR 11, 0\" 11, »  11, \"y 11, 7; 11, f\\' 11, :4 11, :9 11, :8 11, -\" 11, /4 11, 6½ 11, -3 11, NA 11, —K 11, Ef 11, /3 11, \\'y 11, tb 11,  ? 11, Za 11, Ac 11, Ig 11, Åb 11, Gl 11, lU 11, 0m 11, ’n 11, AP 11, Lm 11, AV 10, Vä 10, o? 10,  ! 10, iz 10,  ) 10, 4; 10, AA 10, ): 10,  \\' 10, \\', 10, -F 10, \"C 10, :w 10,  ⅓ 10, ⅓  10, wk 10, Fö 10, RO 10, .6 10, cl 10, W  10, \"G 10, 8½ 10, B: 10, m’ 10, r’ 10, ée 10, Ob 10, 0p 10, у  10, 5% 10, ,l 10, ’s 10, hg 10, -O 9, Jö 9, UU 9, OO 9, h! 9, Hm 9, ;\" 9, y\" 9, sg 9, ˶N 9, -E 9, ˶O 9, -5 9, LI 9, OI 9, IT 9, JO 9, Vu 9, Lå 9, Ll 9, äö 9, I, 9, KY 9, YL 9, lz 9, Kj 9, Uo 9, °  9, NN 9, IK 9, Dö 9, —H 9, ˶j 9, Of 9, så 9, må 9, ås 9, ˶m 9, Ci 9, Cu 9, Y: 9, Äh 9, dj 9, Sh 9, hb 9, C: 9, .s 9, ½8 9, B  9, 3% 9, ½% 9, ов 9, A, 9, xb 9, OH 9, L: 9, Nj 9, cm 9, (B 8, RI 8, LU 8, -v 8, 1¼ 8, OP 8, SS 8, äf 8, eå 8, g- 8, :6 8, RU 8, 2\" 8, ˶e 8, hå 8, wå 8, SE 8, 1; 8, fj 8, d- 8, ÄK 8, a— 8, L  8, Ea 8, LÄ 8, uz 8, F  8, r; 8, h) 8, gw 8, fv 8, 6- 8, /9 8, u’ 8, EK 8, %: 8, PI 8, \"! 7, VI 7, .e 7, hp 7, NT 7, AK 7, (7 7, VO 7, OL 7, LL 7, J: 7, .8 7, yu 7, /8 7, OR 7, —i 7, Ui 7, åg 7, 9- 7, .W 7, :h 7, 2l 7, (a 7, ?) 7, (b 7, -C 7, öo 7, «  7, R: 7, Äk 7, .P 7, :- 7, 1l 7, R  7, C  7, Wb 7, \"Ö 7, -) 7, zm 7,  ⅙ 7, eq 7, ér 7, X. 7, èn 7, (O 7, 5\" 7, ür 7, 5( 7, \\'l 7, Tw 7, (8 7, u) 7, Fä 7, Ud 7, jn 7, ˶P 7, Lq 7, iq 7, 3’ 7, ˶l 7,  z 6, NI 6, PA 6, NS 6, oö 6, VE 6, l1 6, :j 6, \"ä 6, RT 6, OK 6, OU 6, UL 6, y) 6, w\\' 6, ö! 6, j: 6, CO 6, KE 6, NG 6, O- 6, MO 6, ˶L 6, gé 6, 2% 6, HE 6, ˶o 6, Fj 6, :7 6, .m 6, c) 6, VÄ 6,  № 6, 4/ 6, 9/ 6, M— 6, UH 6, —T 6, d; 6, f; 6, EE 6, fm 6, GR 6, -8 6, p; 6, wt 6, -U 6, ˶a 6, l7 6, Fy 6, !« 6, P  6, M  6, PO 6, bd 6, Az 6, .7 6, Öf 6, Ör 6, az 6, lü 6, .* 6, ⅙  6, Fu 6, .r 6, Åh 6, v  6, wg 6,  А 6, /2 6, ˮ  6, d: 6,  П 6, ко 6, ин 6, zb 6, rz 6, 4( 6, l9 6, 8l 6,  ⅛ 6, ⅛  6, (? 6,  á 6, á  6, AM 6, ,. 6, 5’ 6, és 6, K- 6, ¼\" 6, HJ 6, &, 6, (! 5, zu 5, \"V 5, Ay 5, -I 5, HU 5, UT 5, 3O 5, hh 5, (G 5, .j 5, YS 5, p\\' 5, -7 5, YH 5, LO 5, :v 5, k) 5, bj 5, wc 5, Nö 5, —a 5, xm 5, .? 5, pm 5, Ä  5, №  5, f) 5, x\\' 5, 8/ 5, .\\' 5, ä\\' 5, /7 5, pk 5, Lj 5, xt 5, ˶i 5, tv 5, 8- 5, 1- 5, ?! 5, pw 5, -f 5, öc 5, dv 5, ½1 5, ’o 5, 2/ 5, \"? 5, r? 5, kz 5, pæ 5, æu 5, -. 5, !! 5, .+ 5, 9½ 5, m) 5, Gy 5, G  5, Ae 5, ün 5, Mb 5, Ан 5, fb 5, 4% 5, vr 5, mw 5,  н 5, 7/ 5, fd 5, .t 5, -4 5, 3k 5, 1\" 5,  ’ 5, 3( 5, 6( 5, 9( 5, FR 5, uö 5, z. 5, 3l 5, LT 5, c. 5, X  5, k; 5, Dy 5, ˶w 5,  С 5, ер 5, но 5, ск 5, 9’ 5, 8’ 5, 4’ 5, i’ 5, ém 5, V  5, H— 5, éd 5, K, 5, ő  5, 1a 5, pf 4, gk 4, g: 4, På 4, U- 4, -J 4, .M 4, L— 4, \\'. 4, —e 4, ×  4, CK 4, LM 4, dk 4, Oc 4, k\" 4, ˶n 4, (= 4, TY 4, »K 4, O, 4, EI 4, \"b 4, i— 4, Gä 4, —k 4,  é 4, a* 4, SK 4, fn 4, jd 4, œu 4, l) 4, Av 4, é. 4, b, 4, zé 4, (f 4, ö; 4, V: 4, «E 4, lO 4, —S 4, :g 4, l3 4, P- 4, SO 4, DA 4, gö 4, 5½ 4, vw 4, —t 4, d! 4, ¾. 4, 8¼ 4, ’l 4, Mn 4, aq 4, 7- 4, ’ä 4, -N 4, нн 4, x- 4, ö: 4, —R 4, ,w 4,  ˮ 4, yf 4, ол 4, ву 4,  К 4, и  4, н  4, Pf 4, -ö 4, wé 4, 6% 4, ,n 4, y’ 4, ¼o 4, 1( 4, 7( 4, 0( 4, ю  4, й  4, Mk 4, TH 4, 7l 4, 6/ 4, .9 4, 4l 4, z’ 4,  Q 4, ». 4, oz 4, —W 4, üb 4, m\" 4,  М 4, ар 4, у. 4, ам 4, нѢ 4, Ѣ  4, ой 4, Bå 4, не 4, Ss 4, aö 4, Wö 4, c: 4, ½) 4, (u 4, Äy 4, ˶r 4, Ij 4, —P 4, ½\" 4, dz 4, ½7 4, UM 4, o’ 4, —g 4, tc 4, 1] 4, 2] 4, &. 4, j, 3, s— 3, Lr 3, wr 3, X: 3, :˶ 3, \": 3, JU 3, UP 3, Iv 3, \"f 3, pz 3, )? 3, DI 3, vö 3, TÄ 3, IE 3, .H 3, S- 3, 8¾ 3, NK 3, Ö  3, D  3, IJ 3, vn 3, N, 3, XX 3, UK 3, R— 3, wb 3, 8\" 3, ÖM 3, .J 3, -g 3, —O 3, h\" 3, f- 3, SÄ 3, LV 3, ÄJ 3, JÄ 3, —r 3, Rh 3, .4 3, l! 3, /6 3, rü 3, üd 3, ,E 3, e» 3, Wh 3, Eo 3, ⅔  3, AJ 3, I— 3, IM 3, då 3, kd 3, få 3, pœ 3, RN 3, ÄI 3, †. 3, (Y 3, sq 3, PU 3, td 3, ˝  3, HÄ 3, —o 3, Ox 3, xf 3, ˶. 3, él 3, Sz 3, IX 3, a’ 3, Vr 3, .h 3, l— 3, vs 3, CH 3, U  3, ÄL 3, ,h 3, (y 3, Öw 3, ræ 3, v: 3, A— 3, Oo 3, :f 3, ,m 3, +9 3, Eb 3, 1¾ 3, Hå 3, B, 3, \"Å 3, .v 3, Yd 3, ón 3, tü 3, BO 3, \"2 3, \"1 3, нъ 3, é, 3, 0\\' 3, ,k 3, ½9 3, c- 3, ,s 3, ,; 3, h’ 3, zz 3, Ec 3,  м 3, rè 3,  Г 3, ну 3,  д 3, Gå 3, Ib 3, l6 3, 0˶ 3, -˶ 3, gj 3, -Z 3, 8( 3, -6 3,  Ъ 3, Ъ  3, ли 3, Y  3, TR 3, Cw 3, (\" 3, BE 3, RG 3, 1o 3, :p 3, à, 3, By 3, mü 3, :\" 3, lè 3, RE 3, OJ 3, (Å 3, Zt 3, ˶D 3, Ue 3, ,) 3, ло 3,  Р 3, Ку 3, ка 3, въ 3, во 3, ра 3, Må 3, æ  3,  В 3, ла 3, f’ 3, 7’ 3, 6’ 3, Hn 3, ’- 3, Ya 3, 3¼ 3, a˶ 3, zw 3, ül 3, -b 3, FE 3, (g 3, TK 3, Læ 3, æs 3, éi 3, NR 3, /0 3, \\'h 3, Ät 3, —B 3, Pj 3, aë 3, zs 3, Bé 3, ká 3, ár 3, -: 3,  ˷ 3, MP 3, H- 3, Ji 3, 2¼ 3, NC 3, a1 3, OF 3, OG 3, ** 3, U, 2, »J 2, »U 2, OV 2, OD 2, !- 2, RK 2, ,e 2, \\'N 2, 9¼ 2, 7¾ 2,  × 2, BA 2, AB 2, BC 2, OC 2, ID 2, EY 2, IÖ 2, NL 2, ;— 2, cn 2, Pk 2, Sv 2, A- 2, 7% 2, 7\" 2, .» 2, i» 2, YÖ 2, ,S 2, E— 2, e— 2, ÄT 2, Ä. 2, ˶I 2, t» 2, », 2, »t 2, N— 2, (  2, Jl 2, E- 2, ˶W 2, —; 2, 0! 2, 5m 2, NU 2,  ⅔ 2, bh 2, a» 2, —I 2, SH 2, HI 2, RV 2, åe 2, »v 2, EU 2, EM 2, MU 2, ES 2, S— 2, NÄ 2, ox 2, Zn 2, aG 2, ä˝ 2, \"— 2, .A 2, M- 2, Jm 2, §§ 2,  ¹ 2, ¹) 2, -c 2, i˶ 2, Rü 2, üg 2, «H 2, «S 2, «. 2, «, 2, «A 2, «M 2, «K 2, Ex 2, xp 2, ÄM 2, 5° 2, k1 2, åf 2, ;l 2, SV 2, KÖ 2, àp 2, æm 2, mv 2, O! 2, .L 2, öu 2, u@ 2, Um 2, xé 2, .R 2, .G 2, 5p 2, 7p 2, +6 2, U: 2, uS 2, wd 2, E: 2, jm 2, wó 2, ½6 2, ,\\' 2, j\\' 2, kq 2, eö 2, Å  2, :u 2, LS 2, gz 2, aн 2,  Я 2, Як 2, кo 2, къ 2, 3X 2, r! 2, .a 2, —½ 2, S( 2, )\\' 2, @e 2, nˮ 2, Jn 2, ié 2, (D 2, IH 2, HL 2, По 2, оч 2, су 2, oв 2, г  2, ÖS 2, S\\' 2, w\" 2, .K 2, ,j 2, 9\" 2, bt 2, —j 2, äb 2, ˶2 2, ’y 2, zy 2, ’t 2, W- 2, 2( 2, —- 2, fk 2, 2o 2, cg 2, Fü 2,  к 2, лл 2,  Л 2, PR 2, YR 2, JÖ 2, Ö- 2, LF 2, FT 2, IG 2, GN 2, IU 2, UD 2, (C 2, l; 2, Bb 2, ,y 2, LD 2, EB 2, K— 2, 6l 2, I; 2, Qw 2, z\" 2, O: 2, zn 2, 0s 2, (Ö 2, ½, 2, GI 2, ⅞  2, HH 2, .U 2, ˶A 2, é\" 2, Ål 2, Zü 2, éf 2, ×2 2, zt 2, —m 2, Jw 2, Zy 2, wò 2, òn 2,  Н 2, ик 2, Ма 2, рк 2, чу 2, Се 2, iю 2, ос 2,  о 2, рь 2, -К 2, мъ 2, ъ. 2, ру 2, Пе 2,  У 2, нт 2, те 2, Фи 2, уз 2, зь 2, мо 2, ан 2, бр 2, yq 2, Мо 2, ог 2, ти 2, Вл 2, ес 2, ав 2, ен 2, вл 2, е. 2, ян 2, ь  2,  q 2, ет 2, L- 2, ça 2, !. 2, .w 2, oë 2, bn 2, —d 2, ?? 2, Jé 2, Wå 2, .E 2, J  2, RÖ 2, A\" 2, ¼) 2, mh 2, ö) 2, XV 2, wj 2, -9 2, x\" 2, ˶f 2, Åg 2, :S 2, l5 2, Qu 2, ww 2, HK 2, :, 2, p• 2, •  2, Wü 2, p\" 2, (½ 2, Mü 2, ˶R 2, râ 2, ân 2, .T 2, .i 2, :0 2, xw 2, cc 2, z; 2, zk 2, 4¾ 2, 4¼ 2, i* 2, vm 2,  @ 2, vå 2, \\'I 2, Uj 2, js 2, s» 2, «L 2, xh 2, )H 2,  З 2, З: 2, O\\' 2, \\'D 2, yő 2, tő 2, AW 2, WO 2, (V 2, e1 2, ,o 2, YT 2, LY 2, GD 2, FF 2, F, 2, MD 2, DC 2, CX 2, CC 2, ël 2, bö 2, \\'A 2, ,r 2, å, 2, 2¾ 2, 0¾ 2, h; 2, ql 2, ,: 1, LP 1, PH 1, ÄÄ 1, ÄN 1, \"v 1, \"˶ 1, zg 1, !— 1, (- 1, hæ 1, ær 1, JE 1, —? 1, N- 1, ÄV 1, —( 1, m/ 1, /m 1, 6¼ 1, R- 1, DO 1, OE 1, GL 1, FI 1, N\\' 1, NH 1, GO 1, )R 1, Lb 1, jc 1, Då 1, gv 1, \\'S 1, o— 1, —s 1, »k 1, Mm 1, \"\\' 1, 5× 1, 0× 1, KV 1, VL 1, »R 1, Km 1, vj 1, »j 1, n» 1, »B 1, ˶ä 1, jå 1, åi 1, g! 1,  £ 1, £  1, wv 1, tM 1, Ml 1, qo 1, l» 1, lN 1, x: 1, wm 1, 2° 1, 6° 1, HO 1,  □ 1, □- 1, Öi 1, —ä 1, Äf 1, nå 1, Ic 1, »i 1, GE 1, ?̋ 1, ̋  1, MÖ 1, ÖI 1, —0 1, r( 1, ½: 1, RH 1, A; 1, Kw 1, PY 1, »» 1, ½4 1, vȧ 1, ȧe 1, P— 1, h? 1, ék 1, \"z 1, Zö 1, wã 1, ãt 1, s« 1, «P 1, a« 1, n« 1, ä« 1, «Ä 1, \\'J 1, !\\' 1, Än 1, ,« 1, åc 1, V, 1, )! 1, cz 1, 3° 1, 4° 1, 7° 1, P, 1, :. 1, :L 1, L0 1, 8a 1, 9i 1, RD 1, DU 1, UC 1, SÅ 1, ÅN 1, GK 1, ÖR 1, .C 1, MÄ 1, să 1, ă  1, Ná 1, áp 1, Nà 1, nà 1, Mt 1, :) 1, Cd 1, b: 1, aS 1, .F 1, j@ 1, @S 1, pv 1, rS 1, @m 1, *  1, üe 1, .d 1, -d 1, -( 1, )h 1, 4p 1, 1p 1, 2p 1, 3¾ 1, +½ 1, T, 1, +7 1, ,½ 1, ;A 1, hé 1, Bm 1, 6m 1, bm 1, )K 1, nœ 1, Sü 1, l? 1, ’k 1, ÅB 1, RR 1, RÄ 1, 1s 1, X+ 1, j- 1, Uf 1,  Ю 1, Юг 1, гa 1, нa 1, oб 1, бo 1, oн 1, ъ, 1,  λ 1, λЮ 1, Юб 1, бe 1, eк 1, 2X 1, Xl 1, l4 1, X1 1, \\'p 1, 7m 1, 6p 1, 8m 1, \\'! 1, .˝ 1, I) 1, Cp 1, ˮ. 1, )k 1, jt 1, åw 1, :y 1, bw 1, чй 1, йо 1, лк 1, Mа 1, ак 1, кс 1, у- 1, мo 1, sè 1, Гo 1, cй 1, йo 1, oд 1, ди 1, К  1, aб 1, бp 1,  и 1, дъ 1, Io 1, oг 1, WE 1, GÖ 1, ÖÖ 1, 2g 1, 0w 1, /X 1, mè 1, vh 1, dø 1, øn 1, 1⅔ 1, ⅔, 1, §- 1, ,p 1, 6⅔ 1, 7˶ 1, ˶5 1, bü 1, ’N 1, ?\\' 1, ’h 1, x’ 1, 2⅓ 1, Z5 1, mó 1, 8o 1, ä’ 1, äS 1, ,t 1, ⅙o 1, ¼m 1, Rl 1, 4o 1, Öb 1, Iä 1, t´ 1, ´e 1, д  1, к  1,  ц 1, ц  1,  ю 1, Гa 1,  з 1, з  1,  г 1,  ъ 1, мa 1,  л 1, л  1,  й 1, Bи 1, иp 1, aл 1, нe 1, eн 1, Лe 1, xг 1, ги 1, и) 1, \"7 1, )\" 1, PÉ 1, É. 1, RC 1, EC 1, (⅛ 1, ⅛) 1, )L 1, 2§ 1, -§ 1, »l 1, RP 1, IP 1, NB 1, WA 1, .O 1, R, 1, )5 1,  ״ 1, ״  1, §, 1, \"5 1, w’ 1, ˮE 1, ?ˮ 1, ˮW 1, !ˮ 1, f\" 1, Rp 1, Dé 1, éb 1, ü  1, EJ 1, NV 1, -— 1, -0 1, ;- 1, f: 1, Cö 1, 0⅞ 1, 0r 1, MM 1, D, 1, kü 1, 8% 1, ½° 1, (d 1, »H 1, zl 1, Kk 1, c! 1, —N 1, ˶V 1, éc 1, \\'O 1, ét 1,  õ 1, õp 1, Pé 1, aï 1, ïs 1, 2× 1, 1× 1, 3B 1, kå 1, Lg 1, X2 1, å. 1, ˶B 1, hü 1, (˶ 1, ⅓: 1, Ни 1, оа 1, аю 1, рr 1, Ро 1, сн 1, ни 1, ил 1,  И 1, Ив 1, ва 1, а, 1,  п 1, пр 1, ри 1, оз 1, зе 1, ь- 1, ур 1, ря 1, яс 1, ъ- 1, Ки 1, од 1, дп 1, по 1, ор 1, уч 1, чи 1, еш 1, шк 1, qr 1, Ун 1, ръ 1, оФ 1, иц 1, це 1, К. 1, ьм 1, ми 1,  Е 1, ЕФ 1, им 1, вн 1, то 1, он 1,  Ф 1, Фр 1, нц 1, цъ 1, Аб 1, ви 1, ич 1, Kü 1, eæ 1, Въ 1, гс 1, УѢ 1, Ѣз 1, зд 1, дн 1, Су 1, ул 1, лъ 1, Ст 1, тр 1, ах 1, хо 1, ое 1, е  1, нз 1, зъ 1, г. 1, Ру 1, ут 1, Aп 1, пo 1, oл 1, на 1, ры 1, ы  1, СѢ 1, Ѣд 1, ду 1, ун 1, й. 1, ад 1, де 1, сл 1, ня 1, яв 1, вс 1, ом 1, му 1, Па 1, лу 1, Ра 1, мп 1, па 1, зн 1, ец 1, цу 1,  т 1, ия 1, нь 1, ья 1, я  1, Не 1, кя 1, ас 1, ле 1, ев 1, eл 1, лi 1, Пo 1, iе 1, тъ 1,  в 1, рб 1, р  1, rъ 1,  б 1, бе 1, ез 1, ма 1, ки 1, 0ä 1, rė 1, ėn 1, .’ 1, 0’ 1, 1’ 1, ’4 1, R& 1, F: 1, oq 1, Ré 1, ép 1, nç 1, ¼: 1, 0@ 1, )- 1, ä* 1, ˶y 1, d? 1, ˶G 1, ?. 1, .Z 1, \"\" 1, eS 1, ër 1, L\\' 1, \\'H 1, Hô 1, ôp 1, ët 1, I7 1, DÖ 1, ÖD 1, SY 1, ˶Y 1, x! 1, rȧ 1, ȧt 1, Tj 1, a¡ 1, ¡  1, Z  1, 9p 1, e( 1, F— 1, fh 1, —w 1, t( 1, rœ 1, œd 1,  Ü 1, Üb 1, b\" 1, kâ 1, âs 1, ˶Z 1, Zo 1, SÜ 1, ÜD 1, MB 1, B- 1, HD 1, h— 1, .( 1, Lw 1, ˶U 1, kv 1, ½- 1, .u 1, \"d 1, —L 1, CD 1, Eq 1, 1ʃ 1, ʃ2 1, aH 1, Ye 1, ,* 1, \\'% 1, Y- 1, Ö: 1, Wn 1, Jü 1, y— 1, ,i 1, Sf 1, Öq 1, :: 1, Hs 1, 5⅞ 1, mc 1, cs 1, ÄH 1, NM 1, ö\\' 1, üs 1, j’ 1, jj 1, O’ 1, ’d 1, p) 1, lì 1, ìk 1, !H 1, ès 1, Uz 1, èd 1, PÄ 1, -G 1, mú 1, úr 1, ’\" 1, üc 1, Zw 1, —Å 1, V\" 1, ës 1, Ft 1, xy 1, v’ 1, ,a 1, 1⅙ 1, 5⅚ 1, ⅚  1, Wp 1, Z) 1, )t 1, 0° 1, 8\\' 1, kc 1, qa 1, /l 1, DS 1, RŐ 1, ŐM 1, M, 1, ÄG 1, L1 1, a3 1, 3\" 1, 2\\' 1, ?, 1, —c 1, xo 1, 8s 1, T- 1, 0º 1, º  1, ½t 1, 5¼ 1, ¾\" 1, \"¾ 1, ½3 1, ⅙: 1, Hv 1, @u 1, ,O 1, a( 1, H@ 1, @l 1, é\\' 1, 3p 1, ’A 1, ÖN 1, Vl 1, Hf 1, \\'0 1, .V 1,  À 1, ÀJ 1, \"X 1, mz 1, ˷I 1, ˷k 1, ˷o 1, Ip 1, Bъ 1, eд 1, дa 1, aк 1, кц 1, цi 1, Га 1, аз 1, зe 1, e3 1, 3т 1, тЫ 1, Ы  1, Yi 1, 8p 1, ö@ 1, @p 1, BL 1, HM 1, Rt 1, \\'k 1, —h 1, ä— 1, jl 1, Kc 1, Iy 1, «V 1, RS 1, Ли 1, иг 1, го 1, вк 1, а  1, д. 1, кв 1, в  1, vk 1, )E 1, )T 1, k! 1, 4\" 1, dp 1, Rá 1, án 1, w; 1, BB 1, K» 1, bk 1, cé 1, éh 1, \\'é 1, iε 1, εs 1, »E 1, iˮ 1, ˮ, 1, aˮ 1, lő 1, ÄW 1, WÄ 1, ,N 1, x, 1, EA 1, №. 1, E¹ 1, ¹  1, MĀ 1, ĀK 1, LĀ 1, Ā  1, BR 1, DT 1, V0 1, 1t 1, 1i 1, UI 1, N\" 1, ÄY 1, ZI 1, G, 1, SL 1, i1 1, AY 1, »N 1, »L 1, »O 1, Zh 1, »M 1, EX 1, XA 1, HR 1, :b 1, Np 1, Mp 1, 8] 1, 5] 1, 6] 1, 4] 1, I- 1, »I 1, \\'\" 1, h* 1, XC 1, iæ 1, (Z 1, Nå 1, p! 1, \\'c 1, rq 1, xc 1, ’. 1, Äm 1, KB 1, C, 1, @  1, ½— 1, j) 1, ä( 1, Så 1, UJ 1, fp 1, Wm 1, ½/ 1, U0 1, G* 1, *, 1, G- 1, Nr 1, pg 1, é) 1, yc 1, AE 1, \\'E 1, 7¼ 1, +i 1, i4 1, +8 1, 0¼ 1, (c 1, -½ 1, åk 1, \\'/ 1, /, 1, sS 1, qm 1, éu 1, Dg 1, ½2 1, Kp 1, ,¼ 1, ,¾ 1, 1O 1, Ub 1,  ⅖ 1, ⅖  1,  ⅗ 1, ⅗  1, kO 1, hq 1, Ró 1, óz 1, öz 1, r— 1, üh 1, iO 1, Oe 1, iå 1, -V 1, ä@ 1, @n 1, iç 1, Jt 1, iS 1, h1 1, 1e 1, 1v 1, dè 1, Äp 1, Ov 1, s( 1, )a 1, ˶F 1, WU 1, ’U 1, qy 1'"
      ]
     },
     "execution_count": 18,
     "metadata": {},
     "output_type": "execute_result"
    }
   ],
   "source": [
    "#Create bigrams\n",
    "bgs_old = nltk.bigrams(\" \".join(pages_old))\n",
    "bgs_tess = nltk.bigrams(\" \".join(pages_tess))\n",
    "bgs_fr11 = nltk.bigrams(\" \".join(pages_fr11))\n",
    "bgs_gt = nltk.bigrams(\" \".join(pages_gt))\n",
    "\n",
    "#compute frequency distribution for all the bigrams in the text\n",
    "fdist = nltk.FreqDist(bgs_gt)\n",
    "\n",
    "def freq_cmp(a):\n",
    "    return a[1]\n",
    "def printable_bigram_freqs(freq):\n",
    "    k, v = freq\n",
    "    return \"\".join(k)+\" \"+str(v)\n",
    "\", \".join(map(printable_bigram_freqs, sorted(list(fdist.items()), key=freq_cmp, reverse=True)))"
   ]
  },
  {
   "cell_type": "code",
   "execution_count": null,
   "metadata": {},
   "outputs": [],
   "source": []
  }
 ],
 "metadata": {
  "kernelspec": {
   "display_name": "Python 3",
   "language": "python",
   "name": "python3"
  },
  "language_info": {
   "codemirror_mode": {
    "name": "ipython",
    "version": 3
   },
   "file_extension": ".py",
   "mimetype": "text/x-python",
   "name": "python",
   "nbconvert_exporter": "python",
   "pygments_lexer": "ipython3",
   "version": "3.7.0"
  }
 },
 "nbformat": 4,
 "nbformat_minor": 2
}
