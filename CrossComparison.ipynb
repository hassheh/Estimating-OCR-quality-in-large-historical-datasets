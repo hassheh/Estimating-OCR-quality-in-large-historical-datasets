{
 "cells": [
  {
   "cell_type": "code",
   "execution_count": 1,
   "metadata": {},
   "outputs": [],
   "source": [
    "import pandas as pd\n",
    "import numpy as np\n",
    "import glob"
   ]
  },
  {
   "cell_type": "code",
   "execution_count": 2,
   "metadata": {},
   "outputs": [],
   "source": [
    "# pd.read_csv made some mistakes when reading the tsv files\n",
    "# this function is able to read the files more reliably\n",
    "def read_csv(path, sep= ',', names=[\"PAGENAME\", \"OCR\", \"GT\"]):\n",
    "    with open(path, 'r', encoding='utf8') as file:\n",
    "        rows = file.read().split(\"\\n\")\n",
    "        data = np.array([row.split(sep) for row in rows if len(row.split(sep)) == 3])\n",
    "    return pd.DataFrame(data=data, columns=names)"
   ]
  },
  {
   "cell_type": "code",
   "execution_count": 3,
   "metadata": {},
   "outputs": [],
   "source": [
    "ocr_file_0 = \"../ocr_data/nlf_ocr_gt_tescomb5_2017.xlsx\"\n",
    "path = '../ocr_data/'\n",
    "folders = [f for f in glob.glob(path + \"**/*.tsv\", recursive=True)] "
   ]
  },
  {
   "cell_type": "code",
   "execution_count": 4,
   "metadata": {},
   "outputs": [],
   "source": [
    "df_sampled = pd.concat([read_csv(path, sep = \"\\t\", names=[\"PAGENAME\", \"OCR\", \"GT\"]) for path in folders])"
   ]
  },
  {
   "cell_type": "code",
   "execution_count": 5,
   "metadata": {},
   "outputs": [],
   "source": [
    "# reading the excel file takes a while\n",
    "df_full = pd.read_excel(ocr_file_0, sheet_name=\"Words\", header=3, skip_rows=[0,1,2])"
   ]
  },
  {
   "cell_type": "code",
   "execution_count": 6,
   "metadata": {},
   "outputs": [],
   "source": [
    "ground_truth = df_full.values[:,5].astype(np.str)\n",
    "ocr_tess = df_full.values[:,6].astype(np.str)\n",
    "ocr_old = df_full.values[:,7].astype(np.str)\n",
    "ocr_fr11 = df_full.values[:,8].astype(np.str)\n",
    "ocr_sampled = df_sampled.values[:,1].astype(np.str)\n",
    "ocr_sampled_gt = df_sampled.values[:,2].astype(np.str)"
   ]
  },
  {
   "cell_type": "code",
   "execution_count": 7,
   "metadata": {},
   "outputs": [
    {
     "name": "stdout",
     "output_type": "stream",
     "text": [
      "error of estimation tess 0.13683285394694789\n",
      "error of estimation old  0.08856663470757431\n",
      "error of estimation fr11 0.10438438798338123\n",
      "predicted_quality combined 0.6034096356663471\n",
      "predicted_quality tess 0.7501138542665389\n",
      "predicted_quality old  0.7691714605305209\n",
      "predicted_quality fr11 0.8104705976350272\n",
      "true_quality tess 0.8135246883988495\n",
      "true_quality old  0.7041506871204858\n",
      "true_quality fr11 0.7693092841163311\n"
     ]
    }
   ],
   "source": [
    "# cross referencing 3 ocr results and marking it correct if two of them have the same result\n",
    "# correctly marks ~90% of of the results, requires at least 3 different ocr results to be used\n",
    "# in other words the quality estimates can vary at least +-10% from the true values\n",
    "# if the quality of the ocr results varies a lot between implementations, the best and worst are hard to distinguish\n",
    "\n",
    "cross_cmp = (ocr_tess == ocr_old) & (ocr_tess == ocr_fr11)\n",
    "cross_cmp_tess = (ocr_tess == ocr_old) | (ocr_tess == ocr_fr11)\n",
    "cross_cmp_old = (ocr_old == ocr_tess) | (ocr_old == ocr_fr11)\n",
    "cross_cmp_fr11 = (ocr_fr11 == ocr_tess) | (ocr_fr11 == ocr_old)\n",
    "\n",
    "cross_cmp_int = cross_cmp*1\n",
    "cross_cmp_tess_int = cross_cmp_tess*1\n",
    "cross_cmp_old_int = cross_cmp_old*1\n",
    "cross_cmp_fr11_int = cross_cmp_fr11*1\n",
    "\n",
    "print(\"error of estimation tess\", 1- np.mean(cross_cmp_tess_int == df_full.values[:,9]))\n",
    "print(\"error of estimation old \", 1- np.mean(cross_cmp_old_int == df_full.values[:,10]))\n",
    "print(\"error of estimation fr11\", 1- np.mean(cross_cmp_fr11_int == df_full.values[:,11]))\n",
    "print(\"predicted_quality combined\", np.mean(cross_cmp_int)) #all match\n",
    "print(\"predicted_quality tess\", np.mean(cross_cmp_tess_int)) #at least one match\n",
    "print(\"predicted_quality old \", np.mean(cross_cmp_old_int))\n",
    "print(\"predicted_quality fr11\", np.mean(cross_cmp_fr11_int))\n",
    "print(\"true_quality tess\", np.mean(df_full.values[:,9]))\n",
    "print(\"true_quality old \", np.mean(df_full.values[:,10]))\n",
    "print(\"true_quality fr11\", np.mean(df_full.values[:,11]))"
   ]
  },
  {
   "cell_type": "code",
   "execution_count": null,
   "metadata": {},
   "outputs": [],
   "source": []
  }
 ],
 "metadata": {
  "kernelspec": {
   "display_name": "Python 3",
   "language": "python",
   "name": "python3"
  },
  "language_info": {
   "codemirror_mode": {
    "name": "ipython",
    "version": 3
   },
   "file_extension": ".py",
   "mimetype": "text/x-python",
   "name": "python",
   "nbconvert_exporter": "python",
   "pygments_lexer": "ipython3",
   "version": "3.7.0"
  }
 },
 "nbformat": 4,
 "nbformat_minor": 2
}
