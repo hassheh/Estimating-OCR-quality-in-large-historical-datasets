{
 "cells": [
  {
   "cell_type": "code",
   "execution_count": 1,
   "metadata": {},
   "outputs": [
    {
     "name": "stderr",
     "output_type": "stream",
     "text": [
      "/work/modules/Ubuntu/14.04/amd64/common/anaconda3/5.1.0/lib/python3.6/site-packages/matplotlib/font_manager.py:278: UserWarning: Matplotlib is building the font cache using fc-list. This may take a moment.\n",
      "  'Matplotlib is building the font cache using fc-list. '\n"
     ]
    }
   ],
   "source": [
    "import pandas as pd\n",
    "import glob\n",
    "import nltk\n",
    "import numpy as np\n",
    "import matplotlib.pyplot as plt\n",
    "from matplotlib.pyplot import figure"
   ]
  },
  {
   "cell_type": "code",
   "execution_count": 2,
   "metadata": {},
   "outputs": [],
   "source": [
    "# Fetching metaData files\n",
    "\n",
    "metaData = pd.read_csv('ReasearchProjectData/ecco_tcp-metadata.csv', error_bad_lines=False, low_memory=False)\n",
    "perPage = pd.read_csv('ReasearchProjectData/per_page_df_ecco_conf.csv', error_bad_lines=False)"
   ]
  },
  {
   "cell_type": "code",
   "execution_count": 3,
   "metadata": {},
   "outputs": [],
   "source": [
    "#Fetching all the text files\n",
    "\n",
    "difference = []\n",
    "path = 'ReasearchProjectData/by_page_csv/'\n",
    "folders = [f for f in glob.glob(path + \"**/*.csv\", recursive=True)]"
   ]
  },
  {
   "cell_type": "code",
   "execution_count": 10,
   "metadata": {},
   "outputs": [],
   "source": [
    "results = None\n",
    "for f in folders:\n",
    "    difference.append(baseFunction(f))\n",
    "results = get_errors(difference)"
   ]
  },
  {
   "cell_type": "code",
   "execution_count": 9,
   "metadata": {},
   "outputs": [],
   "source": [
    "def baseFunction(f):\n",
    "    diffe = []\n",
    "    perPageText = pd.read_csv(f, error_bad_lines=False)\n",
    "    perPageText = perPageText.sort_values(['page'])\n",
    "    \n",
    "    tokens_ocr = fetch_tokens(perPageText.ocr)\n",
    "    tokens_tcp = fetch_tokens(perPageText.tcp)\n",
    "    \n",
    "    token_ocr_count = get_token_length(tokens_ocr)\n",
    "    token_tcp_count = get_token_length(tokens_tcp)\n",
    "    \n",
    "    diffe.append(get_token_diff(token_ocr_count, token_tcp_count))\n",
    "    return diffe"
   ]
  },
  {
   "cell_type": "code",
   "execution_count": 5,
   "metadata": {},
   "outputs": [],
   "source": [
    "def fetch_tokens(textPage):\n",
    "    tokens = []\n",
    "    i = 0\n",
    "    while i < len(textPage):\n",
    "        tokens.append(nltk.RegexpTokenizer(r'\\w+').tokenize(textPage[i]))\n",
    "        i += 1\n",
    "    return tokens"
   ]
  },
  {
   "cell_type": "code",
   "execution_count": 6,
   "metadata": {},
   "outputs": [],
   "source": [
    "def get_token_length(tokens):\n",
    "    token_length = []\n",
    "    j = 0\n",
    "    while j < len(tokens):\n",
    "        token_length.append(len(tokens[j]))\n",
    "        j += 1\n",
    "    token_length = np.array(token_length)\n",
    "    return token_length"
   ]
  },
  {
   "cell_type": "code",
   "execution_count": 7,
   "metadata": {},
   "outputs": [],
   "source": [
    "def get_token_diff(count_ocr, count_tcp):\n",
    "    diff = []\n",
    "    if (count_ocr.size == count_tcp.size):\n",
    "        diff.append([abs(a - b) > 10 for a,b in zip(count_ocr, count_tcp)])\n",
    "    return diff"
   ]
  },
  {
   "cell_type": "code",
   "execution_count": 8,
   "metadata": {},
   "outputs": [],
   "source": [
    "def get_errors(difference):\n",
    "    errors = []\n",
    "    coef = np.array(difference).ravel()\n",
    "    for diff in coef:\n",
    "        errors.append([sum(diff), len(diff)])\n",
    "    return errors"
   ]
  },
  {
   "cell_type": "code",
   "execution_count": 11,
   "metadata": {},
   "outputs": [
    {
     "data": {
      "text/plain": [
       "2386"
      ]
     },
     "execution_count": 11,
     "metadata": {},
     "output_type": "execute_result"
    }
   ],
   "source": [
    "len(results)"
   ]
  },
  {
   "cell_type": "code",
   "execution_count": 12,
   "metadata": {},
   "outputs": [],
   "source": [
    "accuracy = len(results)"
   ]
  },
  {
   "cell_type": "code",
   "execution_count": 13,
   "metadata": {},
   "outputs": [
    {
     "name": "stdout",
     "output_type": "stream",
     "text": [
      "[33, 335]\n"
     ]
    }
   ],
   "source": [
    "print(results[0])"
   ]
  },
  {
   "cell_type": "code",
   "execution_count": 14,
   "metadata": {},
   "outputs": [],
   "source": [
    "lst2 = [result[0]/result[1]*100 for result in results]"
   ]
  },
  {
   "cell_type": "code",
   "execution_count": 15,
   "metadata": {},
   "outputs": [],
   "source": [
    "ocred = [result[0] for result in results]\n",
    "actual = [result[1] for result in results]"
   ]
  },
  {
   "cell_type": "code",
   "execution_count": 61,
   "metadata": {},
   "outputs": [],
   "source": [
    "results = None"
   ]
  }
 ],
 "metadata": {
  "kernelspec": {
   "display_name": "Python 3",
   "language": "python",
   "name": "python3"
  },
  "language_info": {
   "codemirror_mode": {
    "name": "ipython",
    "version": 3
   },
   "file_extension": ".py",
   "mimetype": "text/x-python",
   "name": "python",
   "nbconvert_exporter": "python",
   "pygments_lexer": "ipython3",
   "version": "3.6.4"
  }
 },
 "nbformat": 4,
 "nbformat_minor": 2
}
