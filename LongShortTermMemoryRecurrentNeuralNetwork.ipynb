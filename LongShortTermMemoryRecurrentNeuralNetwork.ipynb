{
 "cells": [
  {
   "cell_type": "code",
   "execution_count": 1,
   "metadata": {},
   "outputs": [],
   "source": [
    "import pandas as pd\n",
    "import numpy as np\n",
    "import glob\n",
    "import torch\n",
    "import torch.nn as nn\n",
    "from torch.autograd import Variable"
   ]
  },
  {
   "cell_type": "code",
   "execution_count": 2,
   "metadata": {},
   "outputs": [],
   "source": [
    "# pd.read_csv made some mistakes when reading the tsv files\n",
    "# this function is able to read the files more reliably\n",
    "def read_csv(path, sep= ',', names=[\"PAGENAME\", \"OCR\", \"GT\"]):\n",
    "    with open(path, 'r', encoding='utf8') as file:\n",
    "        rows = file.read().split(\"\\n\")\n",
    "        data = np.array([row.split(sep) for row in rows if len(row.split(sep)) == 3])\n",
    "    return pd.DataFrame(data=data, columns=names)"
   ]
  },
  {
   "cell_type": "code",
   "execution_count": 3,
   "metadata": {},
   "outputs": [],
   "source": [
    "ocr_file_0 = \"../ocr_data/nlf_ocr_gt_tescomb5_2017.xlsx\"\n",
    "path = '../ocr_data/'\n",
    "folders = [f for f in glob.glob(path + \"**/*.tsv\", recursive=True)] "
   ]
  },
  {
   "cell_type": "code",
   "execution_count": 4,
   "metadata": {},
   "outputs": [],
   "source": [
    "df_sampled = pd.concat([read_csv(path, sep = \"\\t\", names=[\"PAGENAME\", \"OCR\", \"GT\"]) for path in folders])"
   ]
  },
  {
   "cell_type": "code",
   "execution_count": 5,
   "metadata": {},
   "outputs": [],
   "source": [
    "# reading the excel file takes a while\n",
    "df_full = pd.read_excel(ocr_file_0, sheet_name=\"Words\", header=3, skip_rows=[0,1,2])"
   ]
  },
  {
   "cell_type": "code",
   "execution_count": 6,
   "metadata": {},
   "outputs": [],
   "source": [
    "ground_truth = df_full.values[:,5].astype(np.str)\n",
    "ocr_tess = df_full.values[:,6].astype(np.str)\n",
    "ocr_old = df_full.values[:,7].astype(np.str)\n",
    "ocr_fr11 = df_full.values[:,8].astype(np.str)\n",
    "ocr_sampled = df_sampled.values[:,1].astype(np.str)\n",
    "ocr_sampled_gt = df_sampled.values[:,2].astype(np.str)"
   ]
  },
  {
   "cell_type": "code",
   "execution_count": 7,
   "metadata": {},
   "outputs": [
    {
     "data": {
      "text/plain": [
       "'että kunnille sallittaisiin walta sulkea kapakat alueellaan, mutta wielä ei ole semmoinen laki tullut toimeen. Parlamentti on tosin kerran h'"
      ]
     },
     "execution_count": 7,
     "metadata": {},
     "output_type": "execute_result"
    }
   ],
   "source": [
    "# join the individual words into pages\n",
    "def join(array):\n",
    "    return \" \".join(map(str, array))\n",
    "def combine_to_pages(dataframe, column):\n",
    "    pages = np.split(dataframe.values[:, column], np.cumsum(np.unique(dataframe.values[:, 3], return_counts=True)[1])[:-1])\n",
    "    return np.array(list(map(join, pages)))\n",
    "pages_gt = combine_to_pages(df_full, 5)\n",
    "pages_tess = combine_to_pages(df_full, 6)\n",
    "pages_old = combine_to_pages(df_full, 7)\n",
    "pages_fr11 = combine_to_pages(df_full, 8)\n",
    "ocr_sampled = df_sampled.values[:,1]\n",
    "pages_gt[1][:140]"
   ]
  },
  {
   "cell_type": "code",
   "execution_count": 8,
   "metadata": {},
   "outputs": [],
   "source": [
    "def levenshteinDistance(s1, s2):\n",
    "    if len(s1) > len(s2):\n",
    "        s1, s2 = s2, s1\n",
    "\n",
    "    distances = range(len(s1) + 1)\n",
    "    for i2, c2 in enumerate(s2):\n",
    "        distances_ = [i2+1]\n",
    "        for i1, c1 in enumerate(s1):\n",
    "            if c1 == c2:\n",
    "                distances_.append(distances[i1])\n",
    "            else:\n",
    "                distances_.append(1 + min((distances[i1], distances[i1 + 1], distances_[-1])))\n",
    "        distances = distances_\n",
    "    return distances[-1] #/ (1.0*len(s2))  \n",
    "vectorLehvenstein = np.vectorize(levenshteinDistance)"
   ]
  },
  {
   "cell_type": "code",
   "execution_count": 9,
   "metadata": {},
   "outputs": [
    {
     "name": "stdout",
     "output_type": "stream",
     "text": [
      "0.7084911313518696\n"
     ]
    }
   ],
   "source": [
    "lehv_tess = vectorLehvenstein(ocr_tess, ground_truth)\n",
    "lehv_old = vectorLehvenstein(ocr_old, ground_truth)\n",
    "lehv_fr11 = vectorLehvenstein(ocr_fr11, ground_truth)\n",
    "lehv_sampled = vectorLehvenstein(ocr_sampled, ocr_sampled_gt)\n",
    "print(np.mean(lehv_tess))"
   ]
  },
  {
   "cell_type": "code",
   "execution_count": 10,
   "metadata": {},
   "outputs": [],
   "source": [
    "class RNN(nn.Module):\n",
    "    def __init__(self, input_size, hidden_size, output_size, n_layers=1):\n",
    "        super(RNN, self).__init__()\n",
    "        self.input_size = input_size\n",
    "        self.hidden_size = hidden_size\n",
    "        self.output_size = output_size\n",
    "        self.n_layers = n_layers\n",
    "        \n",
    "        self.encoder = nn.Embedding(input_size, hidden_size)\n",
    "        self.gru = nn.LSTM(hidden_size, hidden_size, n_layers)#nn.GRU(hidden_size, hidden_size, n_layers)#\n",
    "        self.decoder = nn.Linear(hidden_size, output_size)\n",
    "        self.sig = nn.Sigmoid()\n",
    "    \n",
    "    def forward(self, input, hidden):\n",
    "        #print(input)\n",
    "        input = self.encoder(input.view(1, -1))\n",
    "        #print(input)\n",
    "        output, hidden = self.gru(input.view(1, 1, -1), hidden)\n",
    "        #print(output)\n",
    "        output = self.decoder(output.view(1, -1))\n",
    "        #print(output)\n",
    "        output = self.sig(output)\n",
    "        return output, hidden\n",
    "\n",
    "    def init_hidden(self):\n",
    "        return (Variable(torch.zeros(self.n_layers, 1, self.hidden_size)),\n",
    "                Variable(torch.zeros(self.n_layers, 1, self.hidden_size)))#\n",
    "        #return Variable(torch.zeros(self.n_layers, 1, self.hidden_size))"
   ]
  },
  {
   "cell_type": "code",
   "execution_count": 11,
   "metadata": {},
   "outputs": [
    {
     "name": "stdout",
     "output_type": "stream",
     "text": [
      "[' ', '!', '\"', '#', '$', '%', '&', \"'\", '(', ')', '*', '+', ',', '-', '.', '/', '0', '1', '2', '3', '4', '5', '6', '7', '8', '9', ':', ';', '<', '=', '>', '?', '@', 'A', 'B', 'C', 'D', 'E', 'F', 'G', 'H', 'I', 'J', 'K', 'L', 'M', 'N', 'O', 'P', 'Q', 'R', 'S', 'T', 'U', 'V', 'W', 'X', 'Y', 'Z', '[', '\\\\', ']', '^', '_', 'a', 'b', 'c', 'd', 'e', 'f', 'g', 'h', 'i', 'j', 'k', 'l', 'm', 'n', 'o', 'p', 'q', 'r', 's', 't', 'u', 'v', 'w', 'x', 'y', 'z', '{', '|', '}', '~', '\\x84', '¡', '£', '¦', '§', '©', '«', '®', '°', '²', '³', '´', '¹', 'º', '»', '¼', '½', '¾', 'À', 'Ä', 'Å', 'É', 'Ö', '×', 'Ü', 'ß', 'à', 'á', 'â', 'ã', 'ä', 'å', 'æ', 'ç', 'è', 'é', 'ë', 'ì', 'ï', 'ò', 'ó', 'ô', 'õ', 'ö', 'ø', 'ú', 'ü', 'Ā', 'ă', 'ė', 'Ő', 'ő', 'œ', 'š', 'ȧ', 'ʃ', '˝', 'ˮ', '˶', '˷', '̋', 'β', 'ε', 'λ', 'А', 'В', 'Г', 'Е', 'З', 'И', 'Й', 'К', 'Л', 'М', 'Н', 'О', 'П', 'Р', 'С', 'Т', 'У', 'Ф', 'Ц', 'Ч', 'Ъ', 'Ы', 'Ь', 'Ю', 'Я', 'а', 'б', 'в', 'г', 'д', 'е', 'з', 'и', 'й', 'к', 'л', 'м', 'н', 'о', 'п', 'р', 'с', 'т', 'у', 'х', 'ц', 'ч', 'ш', 'ъ', 'ы', 'ь', 'ю', 'я', 'і', 'Ѣ', '״', '–', '—', '’', '„', '†', '•', '›', '⁄', '⁰', '⁵', '₀', '₁', '₂', '€', '℔', '№', '™', '⅓', '⅔', '⅖', '⅗', '⅙', '⅚', '⅛', '⅜', '⅝', '⅞', '⅟', '■', '□', '☛', '☞', '✝'] 247\n",
      "tensor([64, 75, 75, 63, 66, 71, 64, 81, 64, 66, 83, 68, 81, 82])\n"
     ]
    }
   ],
   "source": [
    "all_characters = sorted(list(set(\" \".join(np.concatenate([ground_truth,ocr_tess,ocr_old,ocr_fr11,ocr_sampled,ocr_sampled_gt])))))\n",
    "n_characters = len(all_characters)\n",
    "\n",
    "def char_tensor(string):\n",
    "    tensor = torch.zeros(len(string)).long()\n",
    "    for c in range(len(string)):\n",
    "        tensor[c] = all_characters.index(string[c])\n",
    "    return Variable(tensor)\n",
    "\n",
    "print(all_characters, len(all_characters))\n",
    "print(char_tensor('all_characters'))"
   ]
  },
  {
   "cell_type": "code",
   "execution_count": 12,
   "metadata": {},
   "outputs": [],
   "source": [
    "def estimate_accuracy(estimator, ocr):\n",
    "    res = []\n",
    "    for item in ocr:\n",
    "        hidden = estimator.init_hidden()\n",
    "        item_output = []\n",
    "        for char in char_tensor(item):\n",
    "            output, hidden = estimator(char, hidden)\n",
    "            item_output.append(output.detach().numpy()[0])\n",
    "        res.append(np.array(item_output))\n",
    "    return np.array(res)\n",
    "def estimate_quality(estimator, ocr):\n",
    "    item_acc = 0\n",
    "    char_acc = 0\n",
    "    word_acc = 0\n",
    "    char_len = 0\n",
    "    word_len = 0\n",
    "    for item in ocr:\n",
    "        char_len += len(item)\n",
    "        word_len += 1\n",
    "        hidden = estimator.init_hidden()\n",
    "        tmp_item_acc = 0\n",
    "        tmp_item_err = 0\n",
    "        tmp_word_err = 0\n",
    "        for char in char_tensor(item):\n",
    "            if(char == char_tensor(\" \")[0]):\n",
    "                word_acc += 1 - np.min([tmp_word_err, 1])\n",
    "                tmp_word_err = 0\n",
    "                word_len += 1\n",
    "            output, hidden = estimator(char, hidden)\n",
    "            tmp = (output.detach().numpy()[0] >= 0.5) * 1 #(np.argmax(output.detach().numpy().squeeze(0))==0)*1\n",
    "            tmp_item_acc += tmp\n",
    "            tmp_item_err += 1 - tmp\n",
    "            tmp_word_err += 1 - tmp\n",
    "        char_acc += tmp_item_acc\n",
    "        item_acc += 1 - np.min([tmp_item_err, 1])\n",
    "        word_acc += 1 - np.min([tmp_word_err, 1])\n",
    "            \n",
    "    item_acc = item_acc/len(ocr)\n",
    "    word_acc = word_acc/max(word_len, 1)\n",
    "    char_acc = char_acc/max(char_len, 1)\n",
    "    return (item_acc, word_acc, char_acc)\n",
    "            "
   ]
  },
  {
   "cell_type": "code",
   "execution_count": 13,
   "metadata": {},
   "outputs": [],
   "source": [
    "def lehvenstein_differences(ocr, truth):\n",
    "    #compute lehvenstein stuff but return an array of\n",
    "    # 1,x,x,x if correct letter\n",
    "    # x,1,x,x if different letter\n",
    "    # x,x,1,x if missing letter\n",
    "    # x,x,x,1 if extra letter\n",
    "    m = len(ocr)\n",
    "    n = len(truth)\n",
    "    d = np.zeros([n+1, m+1], np.int)\n",
    "    path = np.zeros([n+1, m+1], np.int)\n",
    "    path[0,0] = 2\n",
    "    for i in range(1, n+1):\n",
    "        d[i, 0] = i\n",
    "        path[i, 0] = 1\n",
    "    for j in range(1, m+1):\n",
    "        d[0, j] = j\n",
    "        path[0, j] = 0\n",
    "    for j in range(1, m+1):\n",
    "        for i in range(1, n+1):\n",
    "            substitutionCost = 1-(truth[i-1] == ocr[j-1])*1\n",
    "            choices = [ d[i-1, j] + 1,                   # deletion\n",
    "                        d[i, j-1] + 1,                   # insertion\n",
    "                        d[i-1, j-1] + substitutionCost]  # substitution\n",
    "            min_choice = np.argmin(choices)\n",
    "            \n",
    "            path[i, j] = min_choice\n",
    "            d[i, j] = choices[min_choice]\n",
    "    i = n\n",
    "    res = np.zeros([m+1, 4], np.int)\n",
    "    for j in range(m, -1, -1):\n",
    "        prev = -1\n",
    "        while prev <= 0:\n",
    "            prev = path[i, j]\n",
    "            #print(truth[i-1] , ocr[j-1], i, j, prev)\n",
    "            if prev == 0: #deletion\n",
    "                i -= 1\n",
    "                res[j, 3] = 1\n",
    "            elif prev == 1: #insertion\n",
    "                res[j, 2] = 1\n",
    "            elif prev == 2: #substitution\n",
    "                if (i<=0 or truth[i-1] == ocr[j-1]):\n",
    "                    if res[j, 3]==0:\n",
    "                        res[j, 0] = 1 # correct\n",
    "                else:\n",
    "                    res[j, 1] = 1 # wrong character\n",
    "                i -= 1\n",
    "    return res[:,0]\n",
    "def vector_differences(ocr, gt): #np.vectorize(lehvenstein_differences, signature='()->(n)')\n",
    "    assert(len(ocr)==len(gt))\n",
    "    return np.array([lehvenstein_differences(ocr[i], gt[i]) for i in range(len(ocr))])"
   ]
  },
  {
   "cell_type": "code",
   "execution_count": 14,
   "metadata": {},
   "outputs": [
    {
     "data": {
      "text/plain": [
       "(array([1, 0, 1, 0, 0]), 'M:c>', 'N:o')"
      ]
     },
     "execution_count": 14,
     "metadata": {},
     "output_type": "execute_result"
    }
   ],
   "source": [
    "# compute the training targets on character level\n",
    "target_old = vector_differences(ocr_old, ground_truth)\n",
    "target_old[0], ocr_old[0], ground_truth[0]"
   ]
  },
  {
   "cell_type": "code",
   "execution_count": 15,
   "metadata": {},
   "outputs": [
    {
     "name": "stdout",
     "output_type": "stream",
     "text": [
      "3124681\n",
      "torch.Size([3905852])\n",
      " M:c> 0. t\n",
      "tensor([1., 0., 1., 0., 0., 1., 1., 1., 1., 1.])\n"
     ]
    }
   ],
   "source": [
    "training_data = \" \"+\" \".join(ocr_old)\n",
    "target_data = torch.Tensor(np.concatenate(target_old).astype(np.long))\n",
    "chunk_len = 400\n",
    "data_len = int(len(training_data)*0.8)\n",
    "\n",
    "def random_chunk():\n",
    "    start_index = np.random.randint(0, data_len - chunk_len)\n",
    "    end_index = start_index + chunk_len + 1\n",
    "    return (training_data[start_index:end_index], target_data[start_index:end_index])\n",
    "\n",
    "print(data_len)\n",
    "print(target_data.shape)\n",
    "print(training_data[:10])\n",
    "print(target_data[:10])\n",
    "#print(random_chunk())"
   ]
  },
  {
   "cell_type": "code",
   "execution_count": 16,
   "metadata": {},
   "outputs": [],
   "source": [
    "def random_training_set():    \n",
    "    chunk, target = random_chunk()\n",
    "    inp = char_tensor(chunk)\n",
    "    add_noise = 0.5\n",
    "    if(np.random.random() < add_noise):\n",
    "        noise_level = np.random.random() * 0.5\n",
    "        for i in range(len(chunk)):\n",
    "            if(np.random.random()<add_noise):\n",
    "                old = inp[i]\n",
    "                inp[i] = np.random.randint(0, n_characters)\n",
    "                #if (inp[i] != old):\n",
    "                target[i] = 0\n",
    "    #target = target_data[chunk]\n",
    "    return inp, Variable(target)"
   ]
  },
  {
   "cell_type": "code",
   "execution_count": 17,
   "metadata": {},
   "outputs": [],
   "source": [
    "import time, math\n",
    "\n",
    "def time_since(since):\n",
    "    s = time.time() - since\n",
    "    m = math.floor(s / 60)\n",
    "    s -= m * 60\n",
    "    return '%dm %ds' % (m, s)"
   ]
  },
  {
   "cell_type": "code",
   "execution_count": 18,
   "metadata": {},
   "outputs": [],
   "source": [
    "def train(inp, target, model, optimizer):\n",
    "    chunk_len = len(inp)\n",
    "    hidden = model.init_hidden()\n",
    "    model.zero_grad()\n",
    "    loss = Variable(torch.Tensor(1))\n",
    "    \n",
    "    for c in range(chunk_len):\n",
    "        output, hidden = model(inp[c], hidden)\n",
    "        tmploss = criterion(output, target[c].unsqueeze(0).unsqueeze(0)) #criterion expects a batch dimension, so unsqueeze one\n",
    "        if(tmploss < 0 or tmploss > 10):\n",
    "            print(output, target[c].unsqueeze(0), tmploss)\n",
    "        loss += tmploss\n",
    "    #loss = criterion(output, torch.Tensor(np.array(target.mean())).unsqueeze(0).unsqueeze(0))\n",
    "\n",
    "    loss.backward()\n",
    "    optimizer.step()\n",
    "\n",
    "    return loss.item() / chunk_len"
   ]
  },
  {
   "cell_type": "code",
   "execution_count": 19,
   "metadata": {},
   "outputs": [
    {
     "name": "stdout",
     "output_type": "stream",
     "text": [
      "[1m 20s (100 10%) 0.2970]\n",
      "[2m 41s (200 20%) 0.3089]\n",
      "[4m 1s (300 30%) 0.3162]\n",
      "[5m 22s (400 40%) 0.3290]\n",
      "[6m 42s (500 50%) 0.1643]\n",
      "[8m 2s (600 60%) 0.1455]\n",
      "[9m 23s (700 70%) 0.0993]\n",
      "[10m 44s (800 80%) 0.2392]\n",
      "[12m 5s (900 90%) 0.2412]\n",
      "[13m 26s (1000 100%) 1.3410]\n"
     ]
    }
   ],
   "source": [
    "n_epochs = 1000\n",
    "print_every = 100\n",
    "plot_every = 10\n",
    "hidden_size = 100\n",
    "target_size = 1\n",
    "n_layers = 2\n",
    "lr = 0.005\n",
    "\n",
    "ocr_estimator = RNN(n_characters, hidden_size, target_size, n_layers)\n",
    "ocr_optimizer = torch.optim.Adam(ocr_estimator.parameters(), lr=lr)\n",
    "criterion = nn.BCELoss()#nn.CrossEntropyLoss()\n",
    "\n",
    "start = time.time()\n",
    "all_losses = []\n",
    "loss_avg = 0\n",
    "\n",
    "for epoch in range(1, n_epochs + 1):\n",
    "    with torch.enable_grad():\n",
    "        loss = train(*random_training_set(), ocr_estimator, ocr_optimizer)       \n",
    "        loss_avg += loss\n",
    "\n",
    "        if epoch % print_every == 0:\n",
    "            print('[%s (%d %d%%) %.4f]' % (time_since(start), epoch, epoch / n_epochs * 100, loss))\n",
    "\n",
    "        if epoch % plot_every == 0:\n",
    "            all_losses.append(loss_avg / plot_every)\n",
    "            loss_avg = 0"
   ]
  },
  {
   "cell_type": "code",
   "execution_count": 20,
   "metadata": {},
   "outputs": [
    {
     "data": {
      "text/plain": [
       "[<matplotlib.lines.Line2D at 0x16a113f3ba8>]"
      ]
     },
     "execution_count": 20,
     "metadata": {},
     "output_type": "execute_result"
    },
    {
     "data": {
      "image/png": "[encoded data removed]",
      "text/plain": [
       "<Figure size 432x288 with 1 Axes>"
      ]
     },
     "metadata": {
      "needs_background": "light"
     },
     "output_type": "display_data"
    }
   ],
   "source": [
    "import matplotlib.pyplot as plt\n",
    "import matplotlib.ticker as ticker\n",
    "%matplotlib inline\n",
    "\n",
    "plt.figure()\n",
    "plt.plot(all_losses)"
   ]
  },
  {
   "cell_type": "code",
   "execution_count": 21,
   "metadata": {},
   "outputs": [
    {
     "data": {
      "text/plain": [
       "(array([0.04631241]), array([0.45531924]), array([0.87828294]))"
      ]
     },
     "execution_count": 21,
     "metadata": {},
     "output_type": "execute_result"
    }
   ],
   "source": [
    "estimate_quality(ocr_estimator, ocr_sampled)"
   ]
  },
  {
   "cell_type": "code",
   "execution_count": 22,
   "metadata": {},
   "outputs": [
    {
     "data": {
      "text/plain": [
       "(array([0.95009025]), array([0.95575182]), array([0.95009025]))"
      ]
     },
     "execution_count": 22,
     "metadata": {},
     "output_type": "execute_result"
    }
   ],
   "source": [
    "#check accuracy on unseen part of text from the same ocr engine as the training data\n",
    "estimate_quality(ocr_estimator, training_data[data_len+1:])"
   ]
  },
  {
   "cell_type": "code",
   "execution_count": null,
   "metadata": {},
   "outputs": [],
   "source": [
    "#training error, slow\n",
    "estimate_quality(ocr_estimator, training_data[:data_len])"
   ]
  },
  {
   "cell_type": "code",
   "execution_count": 24,
   "metadata": {
    "scrolled": true
   },
   "outputs": [
    {
     "data": {
      "text/plain": [
       "tensor([[0.0071]], grad_fn=<SigmoidBackward>)"
      ]
     },
     "execution_count": 24,
     "metadata": {},
     "output_type": "execute_result"
    }
   ],
   "source": [
    "hidden = ocr_estimator.init_hidden()\n",
    "char = char_tensor(\"ö\")\n",
    "output, hidden = ocr_estimator(char, hidden)\n",
    "char = char_tensor(\"ü\")\n",
    "output, hidden = ocr_estimator(char, hidden)\n",
    "output"
   ]
  },
  {
   "cell_type": "code",
   "execution_count": null,
   "metadata": {},
   "outputs": [],
   "source": []
  }
 ],
 "metadata": {
  "kernelspec": {
   "display_name": "Python 3",
   "language": "python",
   "name": "python3"
  },
  "language_info": {
   "codemirror_mode": {
    "name": "ipython",
    "version": 3
   },
   "file_extension": ".py",
   "mimetype": "text/x-python",
   "name": "python",
   "nbconvert_exporter": "python",
   "pygments_lexer": "ipython3",
   "version": "3.7.0"
  }
 },
 "nbformat": 4,
 "nbformat_minor": 2
}
