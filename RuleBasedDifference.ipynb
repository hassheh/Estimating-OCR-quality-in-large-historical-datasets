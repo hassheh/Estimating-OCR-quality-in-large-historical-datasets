{
 "cells": [
  {
   "cell_type": "code",
   "execution_count": 1,
   "metadata": {},
   "outputs": [],
   "source": [
    "import pandas as pd\n",
    "import numpy as np\n",
    "import nltk\n",
    "from nltk.tokenize import RegexpTokenizer\n",
    "import glob\n",
    "#nltk.download('punkt')\n",
    "\n",
    "import re"
   ]
  },
  {
   "cell_type": "code",
   "execution_count": 2,
   "metadata": {},
   "outputs": [],
   "source": [
    "#Fetching all the text files\n",
    "\n",
    "path = 'ReasearchProjectData/by_page_csv/'\n",
    "folders = [f for f in glob.glob(path + \"**/*.csv\", recursive=True)]"
   ]
  },
  {
   "cell_type": "code",
   "execution_count": 13,
   "metadata": {},
   "outputs": [],
   "source": [
    "result = []\n",
    "for f in folders:\n",
    "    ocr_tkn = baseFunction(f)\n",
    "    for token in ocr_tkn:\n",
    "        for word in token:\n",
    "            result.append(is_garbage(word))"
   ]
  },
  {
   "cell_type": "code",
   "execution_count": 3,
   "metadata": {},
   "outputs": [],
   "source": [
    "def baseFunction(f):\n",
    "    diffe = []\n",
    "    perPageText = pd.read_csv(f, error_bad_lines=False)\n",
    "    perPageText = perPageText.sort_values(['page'])\n",
    "    \n",
    "    tokens_ocr = fetch_tokens(perPageText.ocr)\n",
    "    \n",
    "    return tokens_ocr"
   ]
  },
  {
   "cell_type": "code",
   "execution_count": 4,
   "metadata": {},
   "outputs": [],
   "source": [
    "def fetch_tokens(textPage):\n",
    "    tokens = []\n",
    "    i = 0\n",
    "    while i < len(textPage):\n",
    "        tokens.append(nltk.RegexpTokenizer(r'\\w+').tokenize(textPage[i]))\n",
    "        i += 1\n",
    "    return tokens"
   ]
  },
  {
   "cell_type": "code",
   "execution_count": 5,
   "metadata": {},
   "outputs": [],
   "source": [
    "def too_long(string):\n",
    "        \"\"\"\n",
    "        Rule L\n",
    "        ======\n",
    "        tests whether the string passed is more than 40 characters, if\n",
    "        yes. It is garbage!\n",
    "        :param string: string to be tested\n",
    "        :returns: either True or False\n",
    "        \"\"\"\n",
    "        return True if len(string) > 30 else False"
   ]
  },
  {
   "cell_type": "code",
   "execution_count": 6,
   "metadata": {},
   "outputs": [],
   "source": [
    "def bad_alnum_ratio(string):\n",
    "        \"\"\"\n",
    "        Rule A\n",
    "        ======\n",
    "        if a string's ratio of alphanumeric characters to total characters is\n",
    "        less than 50%, the string is garbage\n",
    "        :param string: string to be tested\n",
    "        :returns: either True or False\n",
    "        \"\"\"\n",
    "        \n",
    "        pattern = re.compile('[\\W_]+')\n",
    "        alnum_thresholds = {1: 0,     # single chars can be non-alphanumeric\n",
    "                            2: 0,     # so can doublets\n",
    "                            3: 0.32,  # at least one of three should be alnum\n",
    "                            4: 0.24,  # at least one of four should be alnum\n",
    "                            5: 0.39}  # at least two of five should be alnum\n",
    "\n",
    "        threshold = alnum_thresholds[len(string)] \\\n",
    "            if len(string) in alnum_thresholds else 0.5\n",
    "\n",
    "        if len(string) == 0:  # avoid division by zero\n",
    "            return True\n",
    "        if float(len(\n",
    "                pattern.sub('', string)))/len(string) < threshold:\n",
    "            return True\n",
    "\n",
    "        return False"
   ]
  },
  {
   "cell_type": "code",
   "execution_count": 7,
   "metadata": {},
   "outputs": [],
   "source": [
    "def consecutive_four_identical(string):\n",
    "        \"\"\"\n",
    "        Rule R\n",
    "        ======\n",
    "        if a string has 4 identical characters in a row, it is garbage\n",
    "        :param string: string to be tested\n",
    "        :returns: either True or False\n",
    "        \"\"\"\n",
    "        pattern = re.compile(\n",
    "            r'((.)\\2{3,})')  # matches any 4 consecutive characters\n",
    "        if pattern.search(string):\n",
    "            return True\n",
    "\n",
    "        return False\n"
   ]
  },
  {
   "cell_type": "code",
   "execution_count": 8,
   "metadata": {},
   "outputs": [],
   "source": [
    "def bad_consonant_vowel_ratio(string):\n",
    "        \"\"\"\n",
    "        Rule V\n",
    "        ======\n",
    "        if a string has nothing but alphabetic characters, look at the\n",
    "        number of consonants and vowels. If the number of one is less than 10%\n",
    "        of the number of the other, then the string is garbage.\n",
    "        This includes a length threshold.\n",
    "        :param string: string to be tested\n",
    "        :returns: either True or False\n",
    "        \"\"\"\n",
    "        alpha_string = list(filter(str.isalpha, string))\n",
    "        vowel_count = sum(1 for char in alpha_string if char in 'aeiouAEIOU')\n",
    "        consonant_count = len(alpha_string) - vowel_count\n",
    "\n",
    "        if (consonant_count > 0 and vowel_count > 0):\n",
    "            ratio = float(vowel_count)/consonant_count\n",
    "            if (ratio < 0.1 or ratio > 10):\n",
    "                return True\n",
    "        elif (vowel_count == 0 and consonant_count > len('rhythms')):\n",
    "            return True\n",
    "        elif (consonant_count == 0 and vowel_count > len('IEEE')):\n",
    "            return True\n",
    "\n",
    "        return False"
   ]
  },
  {
   "cell_type": "code",
   "execution_count": 9,
   "metadata": {},
   "outputs": [],
   "source": [
    "def has_two_distinct_puncts_inside(string):\n",
    "        \"\"\"\n",
    "        Rule P\n",
    "        ======\n",
    "        Strip off the first and last characters of a string. If there\n",
    "        are two distinct punctuation characters in the result, then the string\n",
    "        is garbage\n",
    "        Customisation\n",
    "        =============\n",
    "        stripping off the last TWO characters as false positives\n",
    "        included those ending with ').' and similar.\n",
    "        :param string: string to be tested\n",
    "        :returns: either True or False\n",
    "        \"\"\"\n",
    "\n",
    "        non_alnum_string = ''.join(char for char in string[1:-2]\n",
    "                                   if not char.isalnum())\n",
    "        for char in non_alnum_string[1:]:\n",
    "            if char != non_alnum_string[0]:\n",
    "                return True\n",
    "        return False"
   ]
  },
  {
   "cell_type": "code",
   "execution_count": 10,
   "metadata": {},
   "outputs": [],
   "source": [
    "def has_uppercase_within_lowercase(string):\n",
    "        \"\"\"\n",
    "        Rule C\n",
    "        ======\n",
    "        If a string begins and ends with a lowercase letter, then if\n",
    "        the string contains an uppercase letter anywhere in between, then it\n",
    "        is removed as garbage.\n",
    "        Customisation\n",
    "        =============\n",
    "        false positive on \"needed.The\". Exclude fullstop-capital.\n",
    "        Extra customisation: Exclude hyphen-capital, apostrophe-capital and \n",
    "        forwardslash-capital\n",
    "        :param string: string to be tested\n",
    "        :returns: either True or False\n",
    "        \"\"\"\n",
    "        if (string and string[0].islower() and string[-1].islower()):\n",
    "            string_middle = string[1:-1]\n",
    "            for index, char in enumerate(string_middle):\n",
    "                if char.isupper() and not \\\n",
    "                   (index > 0 and string_middle[index-1] in \".-'\"):\n",
    "                    return True\n",
    "        return False"
   ]
  },
  {
   "cell_type": "code",
   "execution_count": 11,
   "metadata": {},
   "outputs": [],
   "source": [
    "def is_garbage(string):\n",
    "        \"\"\"\n",
    "        passes the string to check for every rule and if any match is found\n",
    "        , it returns that rule\n",
    "        :param string: string to be tested\n",
    "        :returns: either True or False\n",
    "        \"\"\"\n",
    "\n",
    "        if too_long(string):\n",
    "            return True\n",
    "        elif bad_alnum_ratio(string):\n",
    "            return True\n",
    "        elif consecutive_four_identical(string):\n",
    "            return True\n",
    "        elif bad_consonant_vowel_ratio(string):\n",
    "            return True\n",
    "        elif has_two_distinct_puncts_inside(string):\n",
    "            return True\n",
    "        elif has_uppercase_within_lowercase(string):\n",
    "            return True\n",
    "        return False"
   ]
  },
  {
   "cell_type": "code",
   "execution_count": 15,
   "metadata": {},
   "outputs": [],
   "source": [
    "dif = len(result) - sum(result)"
   ]
  },
  {
   "cell_type": "code",
   "execution_count": 16,
   "metadata": {},
   "outputs": [
    {
     "data": {
      "text/plain": [
       "230459"
      ]
     },
     "execution_count": 16,
     "metadata": {},
     "output_type": "execute_result"
    }
   ],
   "source": [
    "sum(result)"
   ]
  },
  {
   "cell_type": "code",
   "execution_count": 17,
   "metadata": {},
   "outputs": [
    {
     "data": {
      "text/plain": [
       "78051125"
      ]
     },
     "execution_count": 17,
     "metadata": {},
     "output_type": "execute_result"
    }
   ],
   "source": [
    "dif"
   ]
  },
  {
   "cell_type": "code",
   "execution_count": 18,
   "metadata": {},
   "outputs": [
    {
     "data": {
      "text/plain": [
       "78281584"
      ]
     },
     "execution_count": 18,
     "metadata": {},
     "output_type": "execute_result"
    }
   ],
   "source": [
    "len(result)"
   ]
  }
 ],
 "metadata": {
  "kernelspec": {
   "display_name": "Python 3",
   "language": "python",
   "name": "python3"
  },
  "language_info": {
   "codemirror_mode": {
    "name": "ipython",
    "version": 3
   },
   "file_extension": ".py",
   "mimetype": "text/x-python",
   "name": "python",
   "nbconvert_exporter": "python",
   "pygments_lexer": "ipython3",
   "version": "3.6.4"
  }
 },
 "nbformat": 4,
 "nbformat_minor": 2
}
